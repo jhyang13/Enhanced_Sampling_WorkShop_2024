{
 "cells": [
  {
   "cell_type": "markdown",
   "id": "5c4bebe7-dc9b-4497-b56c-0979b3cbc8fc",
   "metadata": {},
   "source": [
    "# Analysis of FFS Sampling\n",
    "\n"
   ]
  },
  {
   "cell_type": "code",
   "execution_count": null,
   "id": "eb1506bf-be72-4532-9bb9-ba86a9998d13",
   "metadata": {},
   "outputs": [],
   "source": [
    "import numpy as np\n",
    "import matplotlib\n",
    "import matplotlib.pyplot as plt\n",
    "import MDAnalysis as mda\n",
    "import os\n",
    "import glob\n",
    "import re\n",
    "from matplotlib.ticker import ScalarFormatter"
   ]
  },
  {
   "cell_type": "markdown",
   "id": "134ec890-162e-4acc-b44b-d79940e9d5e8",
   "metadata": {},
   "source": [
    "### OP Calculator"
   ]
  },
  {
   "cell_type": "code",
   "execution_count": null,
   "id": "5cf810ec-cf2e-4932-9627-7bfbaa011897",
   "metadata": {},
   "outputs": [],
   "source": [
    "def op(gro,xtc,offset=0,cutoff=-1,skip=1):\n",
    "    system = mda.Universe(gro,xtc)\n",
    "    F = system.select_atoms(\"resname F\")\n",
    "    Li = system.select_atoms(\"resname Li\")\n",
    "    dis = []\n",
    "    time = []\n",
    "    for ts in system.trajectory[offset:cutoff:skip]:\n",
    "        time.append(system.trajectory.time)\n",
    "        F_pos = F.positions[0]\n",
    "        Li_pos = Li.positions[0]\n",
    "        box = system.dimensions[0:3]\n",
    "        x = abs(Li_pos[0]-F_pos[0])\n",
    "        y = abs(Li_pos[1]-F_pos[1])\n",
    "        z = abs(Li_pos[2]-F_pos[2])\n",
    "        dx = min(x,abs(box[0]-x))\n",
    "        dy = min(y,abs(box[1]-y))\n",
    "        dz = min(z,abs(box[2]-z))\n",
    "        dis.append((dx**2+dy**2+dz**2)**0.5)\n",
    "    return dis"
   ]
  },
  {
   "cell_type": "code",
   "execution_count": null,
   "id": "dc49ad61-a7f2-47f2-9c0d-9f73e3ce2169",
   "metadata": {},
   "outputs": [],
   "source": [
    "MPATH = \"/ocean/projects/see220002p/$(whoami)/LiF/\""
   ]
  },
  {
   "cell_type": "markdown",
   "id": "d7aea53a-04d7-40aa-9832-2ccb5edf997e",
   "metadata": {},
   "source": [
    "### Plot the OP of Trajectories from Interfaces along with the OP from Previous Trajectories"
   ]
  },
  {
   "cell_type": "code",
   "execution_count": null,
   "id": "4aa02b6f-d307-4217-8cf7-134ce6e837d7",
   "metadata": {},
   "outputs": [],
   "source": [
    "interface = 0\n",
    "val = 10\n",
    "string = \"/sim_\"\n",
    "\n",
    "for j in np.linspace(0,999,val,dtype=int):\n",
    "    lmda = []\n",
    "    out = [[],[]]\n",
    "    for i in np.linspace(interface,0,interface+1,dtype=int):\n",
    "        if i == interface:\n",
    "            for f in os.listdir(MPATH+\"simulations/int_\"+str(i)+string+str(j)):\n",
    "                name, ext = os.path.splitext(f)\n",
    "                if ext == '.gro':\n",
    "                    config = f\n",
    "                elif ext == '.xtc':\n",
    "                    traj = f\n",
    "            new = op(MPATH+\"simulations/int_\"+str(i)+string+str(j)+\"/\"+config,MPATH+\"simulations/int_\"+str(i)+string+str(j)+\"/\"+traj)\n",
    "            lmda = new + lmda\n",
    "            out[0] += [new[-1]]\n",
    "            out[1] += [(len(new)-1)*0.0005]\n",
    "        else:\n",
    "            back = [int(float(thing)) for thing in re.findall(r'-?\\d+\\.?\\d*', f)][2]\n",
    "            for f in os.listdir(MPATH+\"simulations/int_\"+str(i)+\"/sim_\"+str(back)):\n",
    "                name, ext = os.path.splitext(f)\n",
    "                if ext == '.gro':\n",
    "                    config = f\n",
    "                elif ext == '.xtc':\n",
    "                    traj = f\n",
    "            new = op(MPATH+\"simulations/int_\"+str(i)+\"/sim_\"+str(back)+\"/\"+config,MPATH+\"simulations/int_\"+str(i)+\"/sim_\"+str(back)+\"/\"+traj)\n",
    "            lmda = new + lmda\n",
    "            out[0] += [new[-1]]\n",
    "            for n in range(len(out[1])):\n",
    "                out[1][n] += len(new)*0.0005\n",
    "            out[1] += [(len(new)-1)*0.0005]\n",
    "                \n",
    "    time = [0.0005*t for t in range(len(lmda))]\n",
    "    plt.plot(time,lmda,color='b')\n",
    "    #plt.axhline(y=1.923518185874568,color='r')\n",
    "    #plt.axhline(y=2.0982887958982905,color='k')\n",
    "    #plt.axhline(y=2.1341968367524933,color='k')\n",
    "    #plt.axhline(y=2.174052009069744,color='k')\n",
    "    # plt.axhline(y=2.2889527234967133,color='k')\n",
    "    # plt.axhline(y=2.3132094710880198,color='k')\n",
    "    # plt.axhline(y=2.33320947108802,color='k')\n",
    "    # plt.axhline(y=2.35320947108802,color='k')\n",
    "    # plt.axhline(y=2.3220327558485665,color='k')\n",
    "    # plt.axhline(y=2.3771194310662995,color='k')\n",
    "    # plt.axhline(y=2.418057220368871,color='k')\n",
    "    # plt.axhline(y=2.4629120938914326,color='k')\n",
    "    # plt.axhline(y=2.5038129408292504,color='k')\n",
    "    # plt.axhline(y=2.549677833958526,color='k')\n",
    "    # plt.axhline(y=2.5913156167769045,color='k')\n",
    "    # plt.axhline(y=2.659983674813393,color='k')\n",
    "    # plt.axhline(y=2.7191041106917613,color='k')\n",
    "    # plt.axhline(y=2.791750709402397,color='k')\n",
    "    # plt.axhline(y=2.884419756628912,color='k')\n",
    "    # plt.axhline(y=2.9628847099896096,color='k')\n",
    "    # plt.axhline(y=3.0890101424840974,color='k')\n",
    "    # plt.axhline(y=3.2248217807396307,color='k')\n",
    "    # plt.axhline(y=3.4179820828165206,color='k')\n",
    "    #plt.axhline(y=4.0,color='k')\n",
    "    #plt.axhline(y=4.0,color='b')\n",
    "    plt.plot(out[1],out[0],'ro')\n",
    "    plt.show()\n",
    "    \n",
    "    "
   ]
  },
  {
   "cell_type": "markdown",
   "id": "d4fd2f9f-7d70-4d1f-9cc2-ed3463d7706f",
   "metadata": {},
   "source": [
    "### Plot Groupsize Diagrams for Each Interface"
   ]
  },
  {
   "cell_type": "code",
   "execution_count": null,
   "id": "8f4a23cd-65c7-4a35-8498-a8673bc5b0f5",
   "metadata": {},
   "outputs": [],
   "source": [
    "num = interface+1\n",
    "for i in np.linspace(1,num,num,dtype=int):#range(1,4):\n",
    "    configs = []\n",
    "    for f in os.listdir(MPATH+\"simulations/int_\"+str(i)):\n",
    "        name, ext = os.path.splitext(f)\n",
    "        if ext == '.gro':\n",
    "            configs += [f]\n",
    "    length = len(configs)\n",
    "    s = [None] * len(configs)\n",
    "    for j in range(len(configs)):\n",
    "        s[j] = [int(float(n)) for n in re.findall(r'-?\\d+\\.?\\d*', configs[j])]\n",
    "    end = i\n",
    "    groups = [[] for m in range(end)]\n",
    "    groupnum = [[] for m in range(end)] \n",
    "    for n in range(1,end+1):\n",
    "        for j in range(length):\n",
    "            for step in range(n):\n",
    "                if step == 0:\n",
    "                    for f in os.listdir(MPATH+\"simulations/int_\"+str(i-step-1)+\"/sim_\"+str(s[j][4])):\n",
    "                        name, ext = os.path.splitext(f)\n",
    "                        if ext == '.gro':\n",
    "                            nums = [int(float(thing)) for thing in re.findall(r'-?\\d+\\.?\\d*', f)]\n",
    "                else:\n",
    "                    for f in os.listdir(MPATH+\"simulations/int_\"+str(i-step-1)+\"/sim_\"+str(nums[2])):\n",
    "                        name, ext = os.path.splitext(f)\n",
    "                        if ext == '.gro':\n",
    "                            nums = [int(float(thing)) for thing in re.findall(r'-?\\d+\\.?\\d*', f)]\n",
    "            inGroups = False\n",
    "            for k in range(len(groups[n-1])):\n",
    "                if groups[n-1][k] == nums[3]:\n",
    "                    inGroups = True\n",
    "                    groupnum[n-1][k] += 1/length\n",
    "            if inGroups == False:\n",
    "                groups[n-1] += [nums[3]]\n",
    "                groupnum[n-1] += [1/length]\n",
    "    fig, ax = plt.subplots()\n",
    "    plt.yscale(\"log\")\n",
    "    plt.ylim(0.75/length,1)\n",
    "    ax.yaxis.set_major_formatter(ScalarFormatter())\n",
    "    bplotn = plt.boxplot(groupnum)\n",
    "    plt.show()"
   ]
  },
  {
   "cell_type": "code",
   "execution_count": null,
   "id": "7c25b17f-ee82-405d-ac51-bf5757d3057f",
   "metadata": {},
   "outputs": [],
   "source": []
  }
 ],
 "metadata": {
  "kernelspec": {
   "display_name": "icomse-cpu",
   "language": "python",
   "name": "icomse-cpu"
  },
  "language_info": {
   "codemirror_mode": {
    "name": "ipython",
    "version": 3
   },
   "file_extension": ".py",
   "mimetype": "text/x-python",
   "name": "python",
   "nbconvert_exporter": "python",
   "pygments_lexer": "ipython3",
   "version": "3.8.5"
  }
 },
 "nbformat": 4,
 "nbformat_minor": 5
}
