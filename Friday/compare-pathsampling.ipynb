{
 "cells": [
  {
   "cell_type": "code",
   "execution_count": null,
   "id": "8a3948a0",
   "metadata": {},
   "outputs": [],
   "source": [
    "# Written by: Porhouy (PH) Minh and Naomi Trampe\n",
    "# Last Updated Date: 03-23-2023 \n",
    "# SAMPEL Group"
   ]
  },
  {
   "cell_type": "markdown",
   "id": "8fa00fca",
   "metadata": {},
   "source": [
    "## Comparison between path sampling methods\n"
   ]
  },
  {
   "cell_type": "markdown",
   "id": "a7c30c6c",
   "metadata": {},
   "source": [
    "- This code will perform transition RETIS, FFS and cFFS on a simple potential energy surface (PES). \n",
    "\n",
    "- The code is constructed as follows: \n",
    "\n",
    "    - Performing RETIS, FFS, cFFS\n",
    "\n",
    "    - Plot the density of configurations sampled on the PES of each method for comparison purpose"
   ]
  },
  {
   "cell_type": "markdown",
   "id": "a7132269",
   "metadata": {},
   "source": [
    "## Learning Objectives\n",
    "\n",
    "1. Understand power and limitations of each method used. \n",
    "\n",
    "    - To explore this you can see for a given pes_type, how does the sampling differ between these RETIS and FFS? Given that they used the same type of op. \n",
    "\n",
    "    - How does sampling differ between all the methods? \n"
   ]
  },
  {
   "cell_type": "markdown",
   "id": "b2264da6",
   "metadata": {},
   "source": [
    "## Energy surface contours options"
   ]
  },
  {
   "cell_type": "markdown",
   "id": "a591c992",
   "metadata": {},
   "source": [
    "PES-1: $$ V(x,y) = 0.02(x^4+y^4) - 4\\exp(-(x+2)^2 - (y+2)^2) - 4\\exp(-(x-2)^2 - (y-2)^2) + 0.3(x-y)^2 + 0.0026 $$\n",
    "\n",
    "<img src=\"https://raw.githubusercontent.com/minhx010/pathsampling-notebooks/main/PES-figures/pes-1.png\"> "
   ]
  },
  {
   "cell_type": "markdown",
   "id": "b6ac51be",
   "metadata": {},
   "source": [
    "PES-2: $$ V(x,y) = 0.03(x^4+y^4) - 4\\exp(-(x+2)^2 - (y+2)^2) - 4\\exp(-(x-2)^2 - (y-2)^2) + 0.4(x-y)^2 + 4\\exp(-(x^2+y^2)) - 2.1245 $$\n",
    "\n",
    "<img src=\"https://raw.githubusercontent.com/minhx010/pathsampling-notebooks/main/PES-figures/pes-2.png\">"
   ]
  },
  {
   "cell_type": "markdown",
   "id": "be5d4414",
   "metadata": {},
   "source": [
    "PES-3: $$ V(x,y) = 0.02(x^4+y^4) - 3.73\\exp(-\\frac{(x+2)^2}{8} - \\frac{(y+2)^2}{8}) - 3.73\\exp(-\\frac{(x-2)^2}{8} - \\frac{(y-2)^2}{8}) + 3\\exp(-\\frac{x^2}{2} - \\frac{y^2}{15}) + 2\\exp(-\\frac{x^2}{2} - \\frac{y^2}{2}) - 0.5085 $$\n",
    "\n",
    "<img src=\"https://raw.githubusercontent.com/minhx010/pathsampling-notebooks/main/PES-figures/pes-3.png\">"
   ]
  },
  {
   "cell_type": "markdown",
   "id": "fee32de5",
   "metadata": {},
   "source": [
    "PES-4: Müller-Brown Potential \n",
    "$$ V_{MB}(x,y) = \\sum_{i=1}^{4}{A_{i}\\exp([ a_{i}(x-\\bar{x_{i}})^2 + b_{i}(x-\\bar{x_{i}})(y-\\bar{y_{i}}) + c_{i}(y-\\bar{y_{i}})^2 ])} $$ \n",
    "where:\n",
    "\n",
    "$$ A = [-8, -4, -6.8, 0.6] $$\n",
    "$$ a = [-0.111, -0.111, -0.722, 0.0778] $$\n",
    "$$ b = [0, 0, 1.22, 0.0667] $$\n",
    "$$ c = [-1.11, -1.11, -0.722, 0.0778] $$\n",
    "$$ \\bar{x} = [3, 0, -1.5, -3] $$\n",
    "$$ \\bar{y} = [-3, -1.5, 1.5, 0] $$\n",
    "\n",
    "<img src=\"https://raw.githubusercontent.com/minhx010/pathsampling-notebooks/main/PES-figures/pes-4.png\">"
   ]
  },
  {
   "cell_type": "markdown",
   "id": "f1b18cd0",
   "metadata": {},
   "source": [
    "## Choose your PES"
   ]
  },
  {
   "cell_type": "code",
   "execution_count": null,
   "id": "b2be1aab",
   "metadata": {},
   "outputs": [],
   "source": [
    "import numpy as np\n",
    "import sys\n",
    "import math\n",
    "import copy\n",
    "from math import exp\n",
    "import langevin_dynamics as ld\n",
    "import random\n",
    "import matplotlib.pyplot as plt\n",
    "from matplotlib import colors, ticker, cm\n",
    "\n",
    "# Select your PES type: ***** EDIT HERE *****\n",
    "pes_type = 4\n",
    "\n",
    "# Plot potential energy surface contours\n",
    "N = 100\n",
    "x_vec = np.linspace(-3.5, 3.5, N)\n",
    "y_vec = np.linspace(-3.5, 3.5, N)\n",
    "X, Y = np.meshgrid(x_vec, y_vec)\n",
    "energy = np.zeros((N, N))\n",
    "\n",
    "# Plot contours\n",
    "for i in range(len(x_vec)):\n",
    "    for j in range(len(y_vec)):\n",
    "        energy[j][i] = ld.potential(pes_type,x_vec[i],y_vec[j])\n",
    "plt.contour(x_vec,y_vec,energy,np.linspace(-3,3,20), cmap = 'jet')\n",
    "cbar = plt.colorbar(cm.ScalarMappable(cmap='jet'))\n",
    "cbar.set_ticks([])\n",
    "cbar.set_label(label = 'Energy', size=12)\n",
    "plt.xlabel('x')\n",
    "plt.ylabel('y')\n",
    "plt.show"
   ]
  },
  {
   "cell_type": "markdown",
   "id": "e1abed92",
   "metadata": {},
   "source": [
    "## Simulation Settings"
   ]
  },
  {
   "cell_type": "markdown",
   "id": "2f278754",
   "metadata": {},
   "source": [
    "## 1) RETIS Settings"
   ]
  },
  {
   "cell_type": "code",
   "execution_count": null,
   "id": "94c49a0e",
   "metadata": {},
   "outputs": [],
   "source": [
    "# RETIS settings\n",
    "n_moves = 1000              # number of moves to perform for each path ensemble - path ensemble corresponding to each diff interface\n",
    "\n",
    "op_type = 2                 # order parameter;  1:x  2:y  3:x+y\n",
    "\n",
    "# interfaces = [-1.3, -0.8, -0.5, 0.0, 0.5, 1.0, 2.0]\n",
    "interfaces = [0, -0.5, -1, -1.5, -2, -2.5, -3]\n",
    "\n",
    "# basinA = -2.09              # boundary of basin A; must be less than the first interface\n",
    "basinA = 1                  # boundary of basin A; must be less than the first interface\n",
    "\n",
    "basinB = interfaces[-1]     # basin B defined as last interface\n",
    "\n",
    "# init_coords = [-1, -1]      # initial coordinates\n",
    "init_coords = [-2, 1]      # initial coordinates\n",
    "\n",
    "init_p = [0, 0]             # initial momenta\n",
    "\n",
    "basineqlen = 5000           # basin equilibration length (steps)\n",
    "basinlen = 50000            # basin simulation length\n",
    "sigma = 0.5                 # standard deviation of momenta perturbation\n",
    "\n",
    "#Langevin dynamics settings\n",
    "beta = 2.5                  # 1/kT\n",
    "beta_initpath = 1.5         # 1/kT\n",
    "gamma = 5.0                 # friction\n",
    "dt = 0.01                   # time step size\n",
    "\n",
    "# Plot PES contours with interfaces\n",
    "# Plot contours\n",
    "for i in range(len(x_vec)):\n",
    "    for j in range(len(y_vec)):\n",
    "        energy[j][i] = ld.potential(pes_type,x_vec[i],y_vec[j])\n",
    "\n",
    "plt.contour(x_vec,y_vec,energy,np.linspace(-3,3,20), cmap = 'jet')\n",
    "\n",
    "# Plot basin boundaries\n",
    "\n",
    "if op_type == 1:\n",
    "    plt.plot(np.linspace(basinA,basinA,10),np.linspace(min(y_vec),max(y_vec),10),color='r', label='Basin A')\n",
    "    plt.plot(np.linspace(basinB,basinB,10),np.linspace(min(y_vec),max(y_vec),10),color='b', label='Basin B')\n",
    "elif op_type == 2:\n",
    "    plt.plot(np.linspace(min(x_vec),max(x_vec),10),np.linspace(basinA,basinA,10),color='r', label='Basin A')\n",
    "    plt.plot(np.linspace(min(x_vec),max(x_vec),10),np.linspace(basinB,basinB,10),color='b', label='Basin B')\n",
    "else:\n",
    "    xplot = np.linspace(min(x_vec),max(x_vec),10)\n",
    "    yplmax = basinB - xplot\n",
    "    yplmin = basinA - xplot\n",
    "    plt.plot(xplot,yplmin,color='r', label='Basin A')\n",
    "    plt.plot(xplot,yplmax,color='b', label='Basin B')\n",
    "\n",
    "# Plot interfaces\n",
    "for i in range(len(interfaces)-1):\n",
    "    \n",
    "    if op_type == 1:\n",
    "        plt.plot(np.linspace(interfaces[i],interfaces[i],10),np.linspace(min(y_vec),max(y_vec),10), color='grey')\n",
    "    elif op_type == 2:\n",
    "        plt.plot(np.linspace(min(x_vec),max(x_vec),10),np.linspace(interfaces[i],interfaces[i],10), color='grey')\n",
    "    else:\n",
    "        xplot = np.linspace(min(x_vec),max(x_vec),10)\n",
    "        yplot = interfaces[i]-xplot\n",
    "        plt.plot(xplot,yplot, color='grey')    \n",
    "        \n",
    "cbar = plt.colorbar(cm.ScalarMappable(cmap='jet'))\n",
    "cbar.set_ticks([])\n",
    "cbar.set_label(label = 'Energy', size=12)\n",
    "plt.legend()\n",
    "plt.xlabel('x')\n",
    "plt.ylabel('y')\n",
    "plt.show"
   ]
  },
  {
   "cell_type": "markdown",
   "id": "315ee16e",
   "metadata": {},
   "source": [
    "## Perform RETIS"
   ]
  },
  {
   "cell_type": "code",
   "execution_count": null,
   "id": "4227c5a1",
   "metadata": {},
   "outputs": [],
   "source": [
    "# Perform RETIS\n",
    "import RETIS as ret\n",
    "\n",
    "ret.performretis(pes_type,op_type,interfaces,n_moves,basinA,init_coords,basineqlen,basinlen,beta,beta_initpath)"
   ]
  },
  {
   "cell_type": "markdown",
   "id": "ec54af72",
   "metadata": {},
   "source": [
    "## 2) FFS Settings"
   ]
  },
  {
   "cell_type": "code",
   "execution_count": null,
   "id": "ce53a5dc",
   "metadata": {},
   "outputs": [],
   "source": [
    "# Select your order parameter: ***** EDIT HERE *****\n",
    "op_xtype = 1                       # order parameter x dependence. 1: linear 2: quadratic 3: cubic ...\n",
    "op_ytype = 1                       # order parameter y dependence. 1: linear 2: quadratic 3: cubic ...\n",
    "op_xcoef = [1]                     # order parameter x coefficients. In ascending order [linear, quadratic, cubic, ...]\n",
    "op_ycoef = [0]                     # order parameter y coefficients. In ascending order [linear, quadratic, cubic, ...]\n",
    "ld.print_op(op_xtype,op_ytype,op_xcoef,op_ycoef)\n",
    "\n",
    "# Choose whether to use interface placement algorithms: ***** EDIT HERE ****\n",
    "place = False                      # True: place interfaces, False: use preselected interfaces\n",
    "\n",
    "# Place basin B interface or manually select interfaces\n",
    "space = np.linspace(-3.5,3.5,1000)\n",
    "sp_lim = max(space)-min(space)\n",
    "basin_pos = [0,0]\n",
    "if place:\n",
    "    basinB = ld.calc_op_f(op_xtype,op_ytype,op_xcoef,op_ycoef,basinB_pos[0],basinB_pos[1])\n",
    "    basin_pos[0] = basinB\n",
    "    print(\"Basin B is at {}\\n\".format(basinB))\n",
    "    basinB_inter = [[],[]]\n",
    "    for i in range(space.shape[0]):\n",
    "        print(f\"Placing... {i+1}/{space.shape[0]}\", end=\"\\r\")\n",
    "        for j in range(space.shape[0]):\n",
    "            if -(sp_lim/space.shape[0]/2) < (abs(ld.calc_op_f(op_xtype,op_ytype,op_xcoef,op_ycoef,space[i],space[j])))**(1/max(op_xtype,op_ytype))-((abs(basinB))**(1/max(op_xtype,op_ytype))) < (sp_lim/space.shape[0]/2):\n",
    "                if ld.calc_op_f(op_xtype,op_ytype,op_xcoef,op_ycoef,space[i],space[j])*basinB > 0:\n",
    "                    basinB_inter[0].append(space[i])\n",
    "                    basinB_inter[1].append(space[j])\n",
    "    print(\"                                  \")\n",
    "else:\n",
    "    # default parameters for op=x and op=y\n",
    "    ## If using different OP types: ***** EDIT HERE *****\n",
    "    interfaces = [-1.5, -1.4, -1.3, -1.2, -0.8, -0.5, 0.0, 1.0, 2.0] \n",
    "    #interfaces = [-3.25, -3.0, -2.75, -2.5, -2.0, -1.5, 0.0, 2.0, 4.0]\n",
    "    basinA = -1.78                 # boundary of basin A; must be less than first interface\n",
    "    basin_pos[1] = basinA\n",
    "    #basinA = -3.67\n",
    "    basinB = interfaces[-1]        # define basin B as the final interface\n",
    "    basin_pos[0] = basinB\n",
    "\n",
    "#FFS settings ***** EDIT HERE *****\n",
    "if place:\n",
    "    interfaces = []\n",
    "    n_confs = 30             # number of collected configurations at interface 0\n",
    "    explore_frac = 0.2       # fraction of trajectories to launch as exploring scouts\n",
    "    p_des = 0.3              # desired crossing probability\n",
    "    d_min = 0.1              # minimum interface displacement\n",
    "interface_trajs = 1000       # number of trajectories to launch from each interface\n",
    "basinlen = 50000             # basin simulation time\n",
    "lag = 500\n",
    "# Langevin dynamics settings\n",
    "beta = 2.5                   # 1/kT - increase to run at a lower temperature\n",
    "gamma = 5                    # friction coefficient\n",
    "dt = 0.01                    # time step size\n",
    "# general settings\n",
    "init_coords = [-1, -1]       # initial coordinates\n",
    "init_p = [0, 0]              # initial momenta\n",
    "\n",
    "# Plot PES with defined interfaces\n",
    "fig, ax = plt.subplots(figsize=(7.5,6))\n",
    "ax.contour(x_vec,y_vec,energy,np.linspace(-3,3,21), cmap = 'jet',linewidths=1.5)\n",
    "cbar = plt.colorbar(cm.ScalarMappable(cmap='jet'),ax=ax)\n",
    "cbar.set_ticks([])\n",
    "cbar.set_label(label = 'Energy', size=12)\n",
    "ax.set_ylim(-3.5,3.5)\n",
    "ax.set_xlim(-3.5,3.5)\n",
    "ax.set_xlabel('x',fontsize=15)\n",
    "ax.set_ylabel('y',fontsize=15)\n",
    "ax.tick_params(axis='both',labelsize=12)\n",
    "if place:\n",
    "    ax.plot(basinB_inter[0],basinB_inter[1],'bo',markersize=0.5)\n",
    "else:\n",
    "    if op_xtype == 1 and op_ycoef == [0]:\n",
    "        for i in interfaces:\n",
    "            ax.axvline(x=i,color='k',linewidth=1.5)\n",
    "        ax.axvline(x=basinB,color='b',linewidth=1.5)\n",
    "        ax.axvline(x=basinA,color='r',linewidth=1.5)\n",
    "    elif op_ytype == 1 and op_xcoef == [0]:\n",
    "        for i in interfaces:\n",
    "            ax.axhline(y=i,color='k',linewidth=1.5)\n",
    "        ax.axhline(y=basinB,color='b',linewidth=1.5)\n",
    "        ax.axhline(y=basinA,color='r',linewidth=1.5)\n",
    "    elif op_xtype == 1 and op_ytype == 1:\n",
    "        x = np.linspace(-3.5,3.5,1000)\n",
    "        for i in interfaces:\n",
    "            y = i - x*op_xcoef/op_ycoef\n",
    "            ax.plot(x,y,color='k',linewidth=1.5)\n",
    "        y = basinB - x*op_xcoef/op_ycoef\n",
    "        ax.plot(x,y,color='b',linewidth=1.5)\n",
    "        y = basinA - x*op_xcoef/op_ycoef\n",
    "        ax.plot(x,y,color='r',linewidth=1.5)\n",
    "plt.show()"
   ]
  },
  {
   "cell_type": "markdown",
   "id": "3ca8c1b8",
   "metadata": {},
   "source": [
    "## Perform FFS"
   ]
  },
  {
   "cell_type": "code",
   "execution_count": null,
   "id": "17fdbec5",
   "metadata": {},
   "outputs": [],
   "source": [
    "import FFS as ffs\n",
    "\n",
    "op_type_list = [op_xtype,op_ytype,op_xcoef,op_ycoef]\n",
    "if place:\n",
    "    ffs.performffs(pes_type,basin_pos,place,op_type_list,interfaces,basinlen,init_coords,init_p,dt,beta,gamma,lag,interface_trajs,n_confs=n_confs,explore_frac=explore_frac,p_des=p_des,d_min=d_min)\n",
    "else:\n",
    "    ffs.performffs(pes_type,basin_pos,place,op_type_list,interfaces,basinlen,init_coords,init_p,dt,beta,gamma,lag,interface_trajs)"
   ]
  },
  {
   "cell_type": "code",
   "execution_count": null,
   "id": "6b98ee12-5ff3-4401-a220-3bd08531c5cb",
   "metadata": {},
   "outputs": [],
   "source": []
  }
 ],
 "metadata": {
  "kernelspec": {
   "display_name": "base",
   "language": "python",
   "name": "python3"
  },
  "language_info": {
   "codemirror_mode": {
    "name": "ipython",
    "version": 3
   },
   "file_extension": ".py",
   "mimetype": "text/x-python",
   "name": "python",
   "nbconvert_exporter": "python",
   "pygments_lexer": "ipython3",
   "version": "3.9.13"
  }
 },
 "nbformat": 4,
 "nbformat_minor": 5
}
