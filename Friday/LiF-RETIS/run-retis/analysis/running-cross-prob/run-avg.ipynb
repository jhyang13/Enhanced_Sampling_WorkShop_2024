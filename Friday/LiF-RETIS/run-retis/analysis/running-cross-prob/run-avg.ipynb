{
 "cells": [
  {
   "cell_type": "code",
   "execution_count": null,
   "id": "animal-courtesy",
   "metadata": {},
   "outputs": [],
   "source": [
    "import numpy as np\n",
    "import glob\n",
    "import re\n",
    "import matplotlib.pyplot as plt\n"
   ]
  },
  {
   "cell_type": "code",
   "execution_count": null,
   "id": "amino-labor",
   "metadata": {},
   "outputs": [],
   "source": [
    "interfaces = [ 1.9199, 2.1319, 2.1999, 2.2599,\n",
    "               2.2799, 2.2999, 2.3099, 2.3399,\n",
    "               2.3799, 2.3999, 2.4199, 2.4299, 2.4999,\n",
    "               2.5999, 4.0000]\n",
    "\n",
    "ninterfaces = len(interfaces) - 1\n",
    "allrunavg = [[] for i in range(ninterfaces)]\n",
    "\n",
    "n_moves = 1000\n",
    "\n",
    "for i in range(ninterfaces):\n",
    "    crosslist = []\n",
    "    \n",
    "    for move in range(0,n_moves,1):\n",
    "        \n",
    "        filen = f\"../../{i}/paths/path_gl-{move}_ens-{i}.txt\"\n",
    "        \n",
    "        path = np.genfromtxt(filen,comments=None,dtype=[('pathid','U50'),('time','f8'),('op','f8')],encoding='utf8') \n",
    "        \n",
    "        val = np.max(path['op'])                                            # tells us how far the specific path belonging to that specific interface has travelled\n",
    "        \n",
    "        if val > interfaces[i+1]:\n",
    "            crosslist.append(1)\n",
    "        else:\n",
    "            crosslist.append(0)\n",
    "        \n",
    "    crosses = np.asarray(crosslist)                                         # counts the crosses for that interface into the neighboring i+1 interface\n",
    "\n",
    "    # Calculate the running average\n",
    "\n",
    "    for j in range(len(crosses)):\n",
    "        runavg = np.mean(crosses[:j+1])\n",
    "        # print(runavg)\n",
    "        allrunavg[i].append(runavg)\n",
    "\n",
    "# Plot Running Average of Crossing Probability of Each Interface Ensemble\n",
    "\n",
    "for i in range(ninterfaces):\n",
    "    plt.plot(range(0,n_moves),allrunavg[i][:], label='Interface {}'.format(i))\n",
    "    plt.xlabel('Move', fontsize=12)\n",
    "    plt.ylabel('Running Average of Crossing Probability', fontsize=12)\n",
    "plt.legend(loc='upper right')\n",
    "plt.show()"
   ]
  }
 ],
 "metadata": {
  "kernelspec": {
   "display_name": "myenv",
   "language": "python",
   "name": "myenv"
  },
  "language_info": {
   "codemirror_mode": {
    "name": "ipython",
    "version": 3
   },
   "file_extension": ".py",
   "mimetype": "text/x-python",
   "name": "python",
   "nbconvert_exporter": "python",
   "pygments_lexer": "ipython3",
   "version": "3.11.0"
  }
 },
 "nbformat": 4,
 "nbformat_minor": 5
}
