{
 "cells": [
  {
   "cell_type": "code",
   "execution_count": null,
   "id": "piano-crowd",
   "metadata": {},
   "outputs": [],
   "source": [
    "import glob\n",
    "import numpy as np\n",
    "import re\n",
    "import matplotlib.pyplot as plt\n",
    "\n",
    "interfaces = [ 1.9199, 2.1319, 2.1999, 2.2599,\n",
    "               2.2799, 2.2999, 2.3099, 2.3399,\n",
    "               2.3799, 2.3999, 2.4199, 2.4299, 2.4999,\n",
    "               2.5999, 4.0000]\n",
    "\n",
    "ninterfaces = len(interfaces)-1\n",
    "bin_width = 0.01 \n",
    "max_bins = int((interfaces[-1]-interfaces[0])/bin_width)                        # number of lambdas between the first and last interface\n",
    "counts = np.zeros((ninterfaces,max_bins))                                       # matrix to store crossing counts (for each lambda between the first and last interface)\n",
    "                                                                                # size: interfaces x max_bins \n",
    "\n",
    "for i in range(ninterfaces):\n",
    "    ndiscard = 10                                                               # this corresponds to the number of paths between each decorrelated sample/path\n",
    "    start = 600\n",
    "    n_moves = 1000\n",
    "    for move in range(start,n_moves,ndiscard):\n",
    "        \n",
    "        filen = f\"../../{i}/paths/path_gl-{move}_ens-{i}.txt\"\n",
    "\n",
    "        path = np.genfromtxt(filen,comments=None,dtype=[('pathid','U50'),('time','f8'),('op','f8')],encoding='utf8') \n",
    "        \n",
    "        val = np.max(path['op'])                                                # gets the max op of this path, tells you how far this path has travelled        \n",
    "        \n",
    "        nbin = int((val-interfaces[i])/bin_width)                               # tells us how many lambdas has this path crosses\n",
    "\n",
    "        for j in range(min(nbin+1,max_bins)):\n",
    "            counts[i][j] += 1                                                   # adds 1 for each lambda that this path crosses\n",
    "\n",
    "# Get crossing probability histogram \n",
    "\n",
    "lambdas = [[] for i in range(ninterfaces)]\n",
    "crossingprob = [[] for i in range(ninterfaces)]\n",
    "\n",
    "for i in range(ninterfaces):\n",
    "    for j in range(max_bins):\n",
    "        if counts[i][j] > 0:\n",
    "            lambdas[i].append(interfaces[i]+j*bin_width)                        # this tracks the lambda corresponding to the crossing probability at that lambda\n",
    "            crossingprob[i].append(counts[i][j]/counts[i][0])                   # P(lambda|lambda_i), counts[i][0] is the total number of paths of that ensemble because \n",
    "                                                                                # all paths from this ensemble would have crossed that first interface\n",
    "    \n",
    "# Plot the histogram\n",
    "\n",
    "for i in range(ninterfaces):\n",
    "    plt.plot(lambdas[i],crossingprob[i], label='Interface {}'.format(i))\n",
    "    plt.plot(np.linspace(interfaces[i],interfaces[i],10),np.linspace(0,1,10), color='grey')\n",
    "    plt.xlabel('OP')\n",
    "    plt.ylabel('$P(\\u03BB|\\u03BB_{i})$')\n",
    "# plt.legend()\n",
    "plt.xlim(interfaces[0],interfaces[-1])\n",
    "plt.show() \n"
   ]
  }
 ],
 "metadata": {
  "kernelspec": {
   "display_name": "myenv",
   "language": "python",
   "name": "myenv"
  },
  "language_info": {
   "codemirror_mode": {
    "name": "ipython",
    "version": 3
   },
   "file_extension": ".py",
   "mimetype": "text/x-python",
   "name": "python",
   "nbconvert_exporter": "python",
   "pygments_lexer": "ipython3",
   "version": "3.11.0"
  }
 },
 "nbformat": 4,
 "nbformat_minor": 5
}
