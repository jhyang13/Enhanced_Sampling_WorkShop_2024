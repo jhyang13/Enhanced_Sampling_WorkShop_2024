{
 "cells": [
  {
   "cell_type": "markdown",
   "id": "af5dc4e1",
   "metadata": {},
   "source": [
    "## A toy model for exploring the theory behind various enhanced sampling methods."
   ]
  },
  {
   "cell_type": "markdown",
   "id": "dbb6ef9c",
   "metadata": {},
   "source": [
    "Let's do some imports!"
   ]
  },
  {
   "cell_type": "code",
   "execution_count": null,
   "id": "45ee5db0",
   "metadata": {},
   "outputs": [],
   "source": [
    "import numpy as np\n",
    "import numpy.random\n",
    "import scipy\n",
    "import matplotlib.pyplot as plt\n",
    "import pymbar"
   ]
  },
  {
   "cell_type": "markdown",
   "id": "ab3d2c2e",
   "metadata": {},
   "source": [
    "In order to discuss enhanced sampling, we need to have a potential energy surface we want to explore.  We'll start with the simplest case; two minima in one dimension. Think: how would this be harder in multiple dimensions?"
   ]
  },
  {
   "cell_type": "code",
   "execution_count": null,
   "id": "dcc85c0a",
   "metadata": {},
   "outputs": [],
   "source": [
    "#define the potential - these can be altered.\n",
    "mean1 = 1.0  # center of first minima\n",
    "mean2 = 9.0  # center of 2nd minima\n",
    "cut1 = 4.0   # start of transition region\n",
    "cut2 = 6.0   # end of transition region\n",
    "const1 = 0.0  # value at bottom of  first minima\n",
    "const2 = -2.0 # value at bottom of second minima - it's lower!\n",
    "barrier = 60.0 # the value at (cut1+cut2)/2   # Barrier height\n",
    "k1 = 5 # spring contstant of first minima\n",
    "k2 = 5 # spring constant of 2nd minima\n",
    "\n",
    "def lower_pot(x):\n",
    "    pot = k1*(x-mean1)**2 + const1  # Harmonic!\n",
    "    return pot\n",
    "\n",
    "def upper_pot(x):\n",
    "    pot = k2*(x-mean2)**2 + const2  # Harmonic!\n",
    "    return pot\n",
    "\n",
    "def interpolate_pot(x):  # smooth interpolation between the two minima\n",
    "    x1 = cut1\n",
    "    x2 = cut2\n",
    "    x3 = (cut1+cut2)/2\n",
    "    y1 = lower_pot(cut1)\n",
    "    y2 = upper_pot(cut2)\n",
    "    y3 = barrier\n",
    "    # lagrange interpolation formula for a smooth potential barrier is\n",
    "    return y1*(x-x2)*(x-x3)/((x1-x2)*(x1-x3)) + y2*(x-x1)*(x-x3)/((x2-x1)*(x2-x3)) + y3*(x-x1)*(x-x2)/((x3-x1)*(x3-x2))\n",
    "\n",
    "def potential(x):\n",
    "    # define it as a piecewise potential to make it possible to vectorize.\n",
    "    return np.piecewise(x,[x<cut1,x>cut2],[lower_pot,upper_pot,interpolate_pot])"
   ]
  },
  {
   "cell_type": "markdown",
   "id": "13eb3aea",
   "metadata": {},
   "source": [
    "Now let's plot this potential!"
   ]
  },
  {
   "cell_type": "code",
   "execution_count": null,
   "id": "7777ef4b",
   "metadata": {},
   "outputs": [],
   "source": [
    "x = np.linspace(-2,12,1000)\n",
    "plt.plot(x,potential(x))\n",
    "plt.xlim([-2,12])"
   ]
  },
  {
   "cell_type": "markdown",
   "id": "5283bb43",
   "metadata": {},
   "source": [
    "We've talked about how important the probability distribution is to look at. So, what does the probability distribution look like at different temperatures? Since we are also interested in ensemble average properties, we'll look at the average energy as a function of temperature for our system."
   ]
  },
  {
   "cell_type": "code",
   "execution_count": null,
   "id": "83b26fe4",
   "metadata": {},
   "outputs": [],
   "source": [
    "Temps = [0.5,1,5,20]\n",
    "#Temps = [0.5,1,2,4,8,16,32]\n",
    "Es = np.zeros(len(Temps))\n",
    "Fs = np.zeros(len(Temps))\n",
    "for i,T in enumerate(Temps):\n",
    "    # determine the normalizing constant - very important!  in 1D, easy to do by numerical integration\n",
    "    Q = scipy.integrate.quad(lambda x: np.exp(-potential(x)/T),-10,20)[0]\n",
    "    # and calculate the free energy\n",
    "    Fs[i] = -T*np.log(Q)\n",
    "    # let's calculate the average energy as a function of temperature: again, an integral.\n",
    "    Es[i] = scipy.integrate.quad(lambda x: potential(x)*np.exp(-potential(x)/T),-10,20)[0]/Q\n",
    "    #now plot the probability distribibution at  different temperatures\n",
    "    plt.plot(x,np.exp(-potential(x)/T)/Q,label=T) # we set k_B =1; we don't care about specific units.\n",
    "plt.xlim([-2,12])\n",
    "plt.legend()\n",
    "plt.show()\n",
    "print('T = ',Temps)\n",
    "print('Average energy E[T] =',Es)\n",
    "print('Free energy    F[T] =',Fs)"
   ]
  },
  {
   "cell_type": "markdown",
   "id": "0ebec7af",
   "metadata": {},
   "source": [
    "We see that at low temperatures, it's pretty much always in the lowest well (at 9), and so the average energy is close to -2.  At higer temperatures, it's in both wells, and at high temperatures, it spends some of it's time everywhere, with a much higher average energy. Play around with some different temperatures!"
   ]
  },
  {
   "cell_type": "markdown",
   "id": "4271c71f",
   "metadata": {},
   "source": [
    "## Sampling a potential energy surface with Markov Chain Monte Carlo"
   ]
  },
  {
   "cell_type": "markdown",
   "id": "9eff555b",
   "metadata": {},
   "source": [
    "We'll define Markov Chain Monte Carlo on this system, using the Metropolis-algorthim. We could do MD, but it's a bit more complicated, since we have to keep track of momenta, etc.  We want to keep it relatively simple."
   ]
  },
  {
   "cell_type": "code",
   "execution_count": null,
   "id": "698c115f",
   "metadata": {},
   "outputs": [],
   "source": [
    "def MCstep_1D(xold,T,potential):\n",
    "\n",
    "    newstep = np.random.normal()  # a symmetric (in this case, Gaussian) proposal to move up and down.\n",
    "                                  # The default standard deviation is 1 unit, which seems resonable for the \n",
    "                                  # size of the well; 1-2 steps may be needed to move out of the minima\n",
    "    xnew = xold+newstep  # move a little bit. \n",
    "    oldp = potential(xold)  # calculate the old potential\n",
    "    newp = potential(xnew)  # calculate the new potential\n",
    "    \n",
    "    if newp < oldp:  # if the energy is lower, move!\n",
    "        return xnew\n",
    "    else:  # if the energy is higher, we have to compute a probability of moving.\n",
    "        if np.random.random() < np.exp(-(newp-oldp)/T):\n",
    "            return xnew \n",
    "        else:\n",
    "            return xold\n",
    "    # in either case, return the next location - which is either the same as the old one, or a new location. "
   ]
  },
  {
   "cell_type": "markdown",
   "id": "1bd77f5d",
   "metadata": {},
   "source": [
    "Now let's simulate this system!"
   ]
  },
  {
   "cell_type": "code",
   "execution_count": null,
   "id": "9396fa23",
   "metadata": {},
   "outputs": [],
   "source": [
    "ntraj = 10000  # number of steps to take\n",
    "T = 0.5 # set the temperature\n",
    "\n",
    "xtraj = np.zeros(ntraj)\n",
    "xtraj[0]=1.0  # set the initial position\n",
    "for i in range(ntraj-1):\n",
    "    xtraj[i+1] = MCstep_1D(xtraj[i],T,potential)\n",
    "    \n",
    "# now plot the trajectory over time.    \n",
    "plt.plot(xtraj)\n",
    "plt.ylabel('position')\n",
    "plt.xlabel('time')\n",
    "plt.show()"
   ]
  },
  {
   "cell_type": "markdown",
   "id": "eea498b2",
   "metadata": {},
   "source": [
    "Let's look at histogram of where the system is."
   ]
  },
  {
   "cell_type": "code",
   "execution_count": null,
   "id": "d2f6628c",
   "metadata": {},
   "outputs": [],
   "source": [
    "plt.hist(xtraj,bins=int(ntraj**(1/3)))\n",
    "plt.show()"
   ]
  },
  {
   "cell_type": "markdown",
   "id": "cdd0a5eb",
   "metadata": {},
   "source": [
    "Let's calculate the average energy! Does this seem right?"
   ]
  },
  {
   "cell_type": "code",
   "execution_count": null,
   "id": "2fc30a4c",
   "metadata": {},
   "outputs": [],
   "source": [
    "# recalculating all of the energies of each configuration with the potential we created.\n",
    "energies = potential(xtraj)  \n"
   ]
  },
  {
   "cell_type": "code",
   "execution_count": null,
   "id": "93e3e5aa",
   "metadata": {},
   "outputs": [],
   "source": [
    "print(np.mean(energies))"
   ]
  },
  {
   "cell_type": "markdown",
   "id": "9990329b",
   "metadata": {},
   "source": [
    "How about running it at other temperatures? What happens? What happens when you start at different locations?"
   ]
  },
  {
   "cell_type": "code",
   "execution_count": null,
   "id": "22d48f2a",
   "metadata": {},
   "outputs": [],
   "source": []
  },
  {
   "cell_type": "markdown",
   "id": "74d1bf27",
   "metadata": {},
   "source": [
    "## Trying some enhanced sampling concepts\n",
    "We want to escape from a potential energy minimum, and get to other, hopefully lower free energy (higher probability) minima.  But in a way that allows us to preserve the proper distribution! "
   ]
  },
  {
   "cell_type": "markdown",
   "id": "a864b22d",
   "metadata": {},
   "source": [
    "### Idea 1: Could we add a potential that partly cancels the barriers out?"
   ]
  },
  {
   "cell_type": "code",
   "execution_count": null,
   "id": "4aa20c2a",
   "metadata": {},
   "outputs": [],
   "source": [
    "def biased_potential(x):\n",
    "    # if its OUTSIDE x=11 or x<-1, return the potential\n",
    "    # if it's inside, return 0 - we are exactly removing the potential\n",
    "    return (np.logical_or(x>11, x<-1)) * potential(x)"
   ]
  },
  {
   "cell_type": "code",
   "execution_count": null,
   "id": "5361f6c0",
   "metadata": {},
   "outputs": [],
   "source": [
    "x = np.linspace(-2,12,1000)\n",
    "plt.plot(x,potential(x),label='potential')\n",
    "plt.plot(x,biased_potential(x)-potential(x),label='bias')\n",
    "plt.plot(x,biased_potential(x),label='potential+bias')\n",
    "plt.legend()\n",
    "plt.xlim([-2,12])\n",
    "plt.show()"
   ]
  },
  {
   "cell_type": "code",
   "execution_count": null,
   "id": "fc8ddb7d",
   "metadata": {},
   "outputs": [],
   "source": [
    "ntraj = 20000  # number of steps to take\n",
    "T = 5 # set the temperature\n",
    "\n",
    "xtraj = np.zeros(ntraj)\n",
    "xtraj[0]=1.0  # set the initial position\n",
    "for i in range(ntraj-1):\n",
    "    xtraj[i+1] = MCstep_1D(xtraj[i],T,biased_potential)\n",
    "    \n",
    "# now plot the trajectory over time.    \n",
    "plt.plot(xtraj)\n",
    "plt.ylabel('position')\n",
    "plt.xlabel('time')\n",
    "plt.show()"
   ]
  },
  {
   "cell_type": "markdown",
   "id": "970f0777",
   "metadata": {},
   "source": [
    "Can we _reweight_ to find the correct averages?  Recall, weights from importance sampling are of the form $\\frac{p_j(x)}{p_i(x)}$, where $j$ is the state we care about and $i$ is the state we are actually sampling from. For the Boltzmann distribution, this is equal to $e^{A_j-U_j(x)} / e^{A_j-U_j(x)} = e^{\\Delta A - \\Delta U_j(x)}$."
   ]
  },
  {
   "cell_type": "markdown",
   "id": "b259802c",
   "metadata": {},
   "source": [
    "So first, we need to calculate the energies of our simulation with the potential we care about - not the biased one, the original one.\n"
   ]
  },
  {
   "cell_type": "code",
   "execution_count": null,
   "id": "c4498933",
   "metadata": {},
   "outputs": [],
   "source": [
    "energies = potential(xtraj)"
   ]
  },
  {
   "cell_type": "markdown",
   "id": "52dec2c3",
   "metadata": {},
   "source": [
    "Clearly, the average energy itself is not very useful!  Let's look at the weighted average."
   ]
  },
  {
   "cell_type": "code",
   "execution_count": null,
   "id": "b17ed7b2",
   "metadata": {},
   "outputs": [],
   "source": [
    "np.mean(energies)"
   ]
  },
  {
   "cell_type": "markdown",
   "id": "c4c3d1f6",
   "metadata": {},
   "source": [
    "We then would need to calculate the free energy difference between the two states to get normalized probabilities right. Recall the free energy formula is $\\Delta A = -k_B T \\ln \\frac{1}{N} \\sum_i e^{-(U_j(x) - U_i(x))}$"
   ]
  },
  {
   "cell_type": "code",
   "execution_count": null,
   "id": "98aca4b4",
   "metadata": {},
   "outputs": [],
   "source": [
    "dA = -T*np.log(np.mean(np.exp(-energies/T)))\n",
    "print(dA)"
   ]
  },
  {
   "cell_type": "code",
   "execution_count": null,
   "id": "968c9916",
   "metadata": {},
   "outputs": [],
   "source": [
    "#The weights are of the form: p_j/p_i, where p_j is the state we care about, and is the state we sampled fom\n",
    "# w = exp(dA-dU)\n",
    "weights = np.exp((dA-energies)/T)"
   ]
  },
  {
   "cell_type": "markdown",
   "id": "2509fdb9",
   "metadata": {},
   "source": [
    "The weights should sum up to the same number of samples we had to start with. "
   ]
  },
  {
   "cell_type": "code",
   "execution_count": null,
   "id": "b22a3232",
   "metadata": {},
   "outputs": [],
   "source": [
    "np.sum(weights)"
   ]
  },
  {
   "cell_type": "code",
   "execution_count": null,
   "id": "0d087a2e",
   "metadata": {},
   "outputs": [],
   "source": [
    "# OK let's calculate the weighted average\n",
    "np.mean(weights*energies)"
   ]
  },
  {
   "cell_type": "markdown",
   "id": "4ced88a6",
   "metadata": {},
   "source": [
    "That's pretty darn close for that $T$ (analytically, it's  1.303). How does it do that?  Let's look at the weights a bit more."
   ]
  },
  {
   "cell_type": "code",
   "execution_count": null,
   "id": "c3993846",
   "metadata": {},
   "outputs": [],
   "source": [
    "plt.hist(weights)\n",
    "plt.show()"
   ]
  },
  {
   "cell_type": "markdown",
   "id": "5d9ff3f2",
   "metadata": {},
   "source": [
    "How many are above 0.1? What does that mean for weights to be very small or very large?"
   ]
  },
  {
   "cell_type": "markdown",
   "id": "3eb01b36",
   "metadata": {},
   "source": [
    "QUESTION: How might this process be harder in a multidimensional space?"
   ]
  },
  {
   "cell_type": "markdown",
   "id": "10addfdc",
   "metadata": {},
   "source": [
    "### Idea 2: Define some auxiliary (\"helper\") potentials that bridge the gap between minima."
   ]
  },
  {
   "cell_type": "code",
   "execution_count": null,
   "id": "332b39ee",
   "metadata": {},
   "outputs": [],
   "source": [
    "def ip(c1,c2,n,i):\n",
    "    # linearly iterpolate between two parameters c1 and c2, in n steps, \n",
    "    # returning the ith step along the interpolation.\n",
    "    # when i=0, it's c1\n",
    "    # when i=n, it's c2\n",
    "    return c1*(n-i)/n + c2*(i/n)"
   ]
  },
  {
   "cell_type": "code",
   "execution_count": null,
   "id": "9dec9435",
   "metadata": {},
   "outputs": [],
   "source": [
    "nstates = 5\n",
    "potentials = []\n",
    "potentials.append(potential)\n",
    "for i in range(1,nstates):\n",
    "    potentials.append(lambda x, i=i: ip(k1,k2,nstates,i)*((x-ip(mean1,mean2,nstates,i))**2) + ip(const1,const2,nstates,i))"
   ]
  },
  {
   "cell_type": "markdown",
   "id": "404c8b70",
   "metadata": {},
   "source": [
    "Let's plot these potentials, along with the original one."
   ]
  },
  {
   "cell_type": "code",
   "execution_count": null,
   "id": "441c1594",
   "metadata": {},
   "outputs": [],
   "source": [
    "x = np.linspace(-2,12,100)\n",
    "for p in potentials:\n",
    "    plt.plot(x,p(x))\n",
    "plt.xlim([-2,12])\n",
    "plt.ylim([-2,70])\n",
    "plt.show()"
   ]
  },
  {
   "cell_type": "markdown",
   "id": "e45b036c",
   "metadata": {},
   "source": [
    "A new idea: Let's do Monte Carlo BETWEEN states (potentials).\n",
    "\n",
    "These are not physical states, these are artificial states - but we are using a computer, who cares?\n",
    "1. Pick a random other state (symmetric!)\n",
    "2. Use the Metropolis criteria to decide to go up or down."
   ]
  },
  {
   "cell_type": "markdown",
   "id": "33d2de49",
   "metadata": {},
   "source": [
    "Define our MC state step:"
   ]
  },
  {
   "cell_type": "code",
   "execution_count": null,
   "id": "f862b5d5",
   "metadata": {},
   "outputs": [],
   "source": [
    "def MCstep_2D_state(x,iold,T,potentials):\n",
    "\n",
    "    inew = iold\n",
    "    while (inew == iold):\n",
    "        inew = np.random.randint(0,len(potentials))  # jump to any random state that's not the current state\n",
    "\n",
    "    oldp = potentials[iold](x)\n",
    "    newp = potentials[inew](x)\n",
    "    \n",
    "    if newp < oldp:  # if the energy is lower, move\n",
    "        return inew\n",
    "    else:\n",
    "        if np.random.random() < np.exp(-(newp-oldp)/T):\n",
    "            return inew\n",
    "        else:\n",
    "            return iold"
   ]
  },
  {
   "cell_type": "markdown",
   "id": "e883e12f",
   "metadata": {},
   "source": [
    "Now here is our algorithm; 50% of the time do a state move, 50% do a coordinate move."
   ]
  },
  {
   "cell_type": "code",
   "execution_count": null,
   "id": "f45f03cc",
   "metadata": {},
   "outputs": [],
   "source": [
    "ntraj = 10000\n",
    "T = 5.0\n",
    "xtraj = np.zeros(ntraj)\n",
    "itraj = np.zeros(ntraj,int)\n",
    "xtraj[0]= 1.0\n",
    "itraj[0] = 0\n",
    "for i in range(ntraj-1):\n",
    "    if np.random.random() < 0.5:  # half the time, do a coordinate move\n",
    "        xtraj[i+1] = MCstep_1D(xtraj[i],T,potentials[itraj[i]])\n",
    "        itraj[i+1] = itraj[i]\n",
    "    else:   # and half the time, do a state move\n",
    "        itraj[i+1] = MCstep_2D_state(xtraj[i],itraj[i],T,potentials)\n",
    "        xtraj[i+1] = xtraj[i]"
   ]
  },
  {
   "cell_type": "code",
   "execution_count": null,
   "id": "8e12f43e",
   "metadata": {},
   "outputs": [],
   "source": [
    "# let's plot the trajectory - which is now 2D!\n",
    "plt.plot(itraj)\n",
    "plt.ylabel('state')\n",
    "plt.xlabel('time')\n",
    "plt.show()\n",
    "plt.plot(xtraj)\n",
    "plt.ylabel('position')\n",
    "plt.xlabel('time')\n",
    "plt.show()"
   ]
  },
  {
   "cell_type": "markdown",
   "id": "c92e1f1e",
   "metadata": {},
   "source": [
    "Let's look at the distributions of each state. Remember, the potential we want to sample is the blue one."
   ]
  },
  {
   "cell_type": "code",
   "execution_count": null,
   "id": "ec89f373",
   "metadata": {},
   "outputs": [],
   "source": [
    "for i in range(len(potentials)):\n",
    "    plt.hist(xtraj[np.where(itraj==i)],bins=30)\n",
    "plt.show()"
   ]
  },
  {
   "cell_type": "markdown",
   "id": "10c593c1",
   "metadata": {},
   "source": [
    "**ACTIVITY**: What is the average potential energy of the state we are interested in? "
   ]
  },
  {
   "cell_type": "markdown",
   "id": "7a049aa4",
   "metadata": {},
   "source": [
    "### Idea 3: Let's take the existing potential, but add a bias that that \"carries'' it from one minimum to another as the bia varies.\n",
    "\n",
    "Above, we \"morphed\" the potential to introduce new states.  We can't always guess totally new potentials that can help morph between minima (why not?).  But we **can** add an extra potential that localizes the probability."
   ]
  },
  {
   "cell_type": "code",
   "execution_count": null,
   "id": "e8d3cc10",
   "metadata": {},
   "outputs": [],
   "source": [
    "nsteps = 10\n",
    "umbrella_potentials = []\n",
    "umbrella_potentials.append(potential)\n",
    "for i in range(1,nsteps):\n",
    "    # for each potential, we add a harmonic well that gradually moves across the system\n",
    "    # We'll leave off the constant, since maybe we don't KNOW the constant yet.\n",
    "    umbrella_potentials.append(lambda x, i=i: potential(x) + ip(k1,k2,nsteps,i)*((x-ip(mean1,mean2,nsteps,i))**2))"
   ]
  },
  {
   "cell_type": "markdown",
   "id": "1ae649df",
   "metadata": {},
   "source": [
    "Now, let's plot the potential with the different biases"
   ]
  },
  {
   "cell_type": "code",
   "execution_count": null,
   "id": "724eceea",
   "metadata": {},
   "outputs": [],
   "source": [
    "x = np.linspace(-2,12,100)\n",
    "for p in umbrella_potentials:\n",
    "    plt.plot(x,p(x))\n",
    "plt.xlim([-2,12])\n",
    "plt.ylim([-2,80])\n",
    "plt.show()"
   ]
  },
  {
   "cell_type": "code",
   "execution_count": null,
   "id": "7853ebb3",
   "metadata": {},
   "outputs": [],
   "source": [
    "ntraj = 50000\n",
    "T = 5\n",
    "xtraj = np.zeros(ntraj)\n",
    "itraj = np.zeros(ntraj,int)\n",
    "xtraj[0]=1.0\n",
    "itraj[0] = 0\n",
    "for i in range(ntraj-1):\n",
    "    if np.random.random() < 0.5:  # half the time, do a coordinate move\n",
    "        xtraj[i+1] = MCstep_1D(xtraj[i],T,umbrella_potentials[itraj[i]])\n",
    "        itraj[i+1] = itraj[i]\n",
    "    else:   # half the time do a state move\n",
    "        itraj[i+1] = MCstep_2D_state(xtraj[i],itraj[i],T,umbrella_potentials)\n",
    "        xtraj[i+1] = xtraj[i]"
   ]
  },
  {
   "cell_type": "code",
   "execution_count": null,
   "id": "954b4012",
   "metadata": {},
   "outputs": [],
   "source": [
    "# let's plot the trajectory\n",
    "plt.plot(itraj)\n",
    "plt.ylabel('state')\n",
    "plt.xlabel('time')\n",
    "plt.show()\n",
    "plt.plot(xtraj)\n",
    "plt.ylabel('position')\n",
    "plt.xlabel('time')\n",
    "plt.show()"
   ]
  },
  {
   "cell_type": "code",
   "execution_count": null,
   "id": "471e5792",
   "metadata": {},
   "outputs": [],
   "source": [
    "plt.hist(itraj)\n",
    "plt.show()"
   ]
  },
  {
   "cell_type": "markdown",
   "id": "dc83a542",
   "metadata": {},
   "source": [
    "We need to change the potential some more - we need to make the intermediate states lower in energy.  \n",
    "Note that this is the same as changing the _free energy_ of the intermediate states.  Let's guesstimate. "
   ]
  },
  {
   "cell_type": "code",
   "execution_count": null,
   "id": "42e8cf25",
   "metadata": {},
   "outputs": [],
   "source": [
    "nsteps = 10\n",
    "weights = [0,0,0,0,0,0,0,0,0,0]\n",
    "\n",
    "wumbrella_potentials = []  # weighted umbrella potentials\n",
    "wumbrella_potentials.append(potential)\n",
    "for i in range(1,nsteps):\n",
    "    wumbrella_potentials.append(lambda x, i=i: potential(x) + weights[i]+ ip(k1,k2,nsteps,i)*((x-ip(mean1,mean2,nsteps,i))**2) + ip(const1,const2,nsteps,i))"
   ]
  },
  {
   "cell_type": "markdown",
   "id": "feb6d3ed",
   "metadata": {},
   "source": [
    "Plot the potentials:"
   ]
  },
  {
   "cell_type": "code",
   "execution_count": null,
   "id": "294bfe4b",
   "metadata": {},
   "outputs": [],
   "source": [
    "x = np.linspace(-2,12,100)\n",
    "for p in wumbrella_potentials:\n",
    "    plt.plot(x,p(x))\n",
    "plt.xlim([-2,12])\n",
    "plt.ylim([-10,70])\n",
    "plt.show()"
   ]
  },
  {
   "cell_type": "markdown",
   "id": "73c9396c",
   "metadata": {},
   "source": [
    "Now run with MC in both distance and state"
   ]
  },
  {
   "cell_type": "code",
   "execution_count": null,
   "id": "0cac6c9d",
   "metadata": {},
   "outputs": [],
   "source": [
    "ntraj = 50000\n",
    "T = 5\n",
    "xtraj = np.zeros(ntraj)\n",
    "itraj = np.zeros(ntraj,int)\n",
    "xtraj[0]=1.0\n",
    "itraj[0] = 0\n",
    "for i in range(ntraj-1):\n",
    "    if np.random.random() < 0.5:  # half the time, do a coordinate move\n",
    "        xtraj[i+1] = MCstep_1D(xtraj[i],T,wumbrella_potentials[itraj[i]])\n",
    "        itraj[i+1] = itraj[i]\n",
    "    else:   # half the time do a state move\n",
    "        itraj[i+1] = MCstep_2D_state(xtraj[i],itraj[i],T,wumbrella_potentials)\n",
    "        xtraj[i+1] = xtraj[i]"
   ]
  },
  {
   "cell_type": "markdown",
   "id": "7035924b",
   "metadata": {},
   "source": [
    "Let's plot the trajectory (in both dimensions):"
   ]
  },
  {
   "cell_type": "code",
   "execution_count": null,
   "id": "7fdd6575",
   "metadata": {},
   "outputs": [],
   "source": [
    "plt.plot(itraj)\n",
    "plt.ylabel('state')\n",
    "plt.xlabel('time')\n",
    "plt.show()\n",
    "plt.plot(xtraj)\n",
    "plt.ylabel('position')\n",
    "plt.xlabel('time')\n",
    "plt.show()"
   ]
  },
  {
   "cell_type": "code",
   "execution_count": null,
   "id": "dec8b782",
   "metadata": {
    "scrolled": true
   },
   "outputs": [],
   "source": [
    "plt.hist(itraj)\n",
    "plt.show()"
   ]
  },
  {
   "cell_type": "markdown",
   "id": "24a203ba",
   "metadata": {},
   "source": [
    "How can we do better than this?  What are our choices?  We need to adjust our free energies. How could you calculate the free energies simply?"
   ]
  },
  {
   "cell_type": "code",
   "execution_count": null,
   "id": "5bae9181",
   "metadata": {},
   "outputs": [],
   "source": []
  },
  {
   "cell_type": "markdown",
   "id": "d619dfcf",
   "metadata": {},
   "source": [
    "QUESTION: How would this process work in many dimensions?"
   ]
  },
  {
   "cell_type": "markdown",
   "id": "6388c7a9",
   "metadata": {},
   "source": [
    "### Idea 3a.  Umbrella sampling: \n",
    "Another alternative to find the weights is to carry out individual simulations of each of the potentials with localizing biases, and calculate the free energies from that information."
   ]
  },
  {
   "cell_type": "code",
   "execution_count": null,
   "id": "012900a8",
   "metadata": {},
   "outputs": [],
   "source": [
    "## umbrella sampling\n",
    "\n",
    "#Let's carry out simulations of each umbrella, in turn (put it all in the same trajectory)\n",
    "npots = len(umbrella_potentials)\n",
    "nstage = 1000\n",
    "T = 5\n",
    "xtraj = np.zeros(nstage*npots)\n",
    "xtraj[0]=1.0\n",
    "n=0\n",
    "for p in wumbrella_potentials:\n",
    "    for i in range(nstage):\n",
    "        if n+1<nstage*npots:\n",
    "            xtraj[n+1] = MCstep_1D(xtraj[n],T,p)\n",
    "            n=n+1"
   ]
  },
  {
   "cell_type": "markdown",
   "id": "d864ce70",
   "metadata": {},
   "source": [
    "Let's plot the \"trajectory\"\n"
   ]
  },
  {
   "cell_type": "code",
   "execution_count": null,
   "id": "498b67e5",
   "metadata": {},
   "outputs": [],
   "source": [
    "plt.plot(xtraj)\n",
    "plt.ylabel('position')\n",
    "plt.xlabel('time')\n",
    "plt.show()"
   ]
  },
  {
   "cell_type": "markdown",
   "id": "bb7c39dc",
   "metadata": {},
   "source": [
    "To do multistate reweighting, we need potential energy of each sample in each of the other potentials."
   ]
  },
  {
   "cell_type": "code",
   "execution_count": null,
   "id": "84163329",
   "metadata": {},
   "outputs": [],
   "source": [
    "ntraj = len(xtraj)\n",
    "energies = np.zeros([len(wumbrella_potentials),len(xtraj)])\n",
    "for j in range(nsteps):\n",
    "    energies[j,:] = umbrella_potentials[j](xtraj)\n",
    "energies = energies/T"
   ]
  },
  {
   "cell_type": "code",
   "execution_count": null,
   "id": "c8df3cbf",
   "metadata": {},
   "outputs": [],
   "source": [
    "print(energies)"
   ]
  },
  {
   "cell_type": "code",
   "execution_count": null,
   "id": "a2bd06ec",
   "metadata": {},
   "outputs": [],
   "source": [
    "# count the number of samples at each T \n",
    "N_k = nstage*np.ones(len(umbrella_potentials))\n",
    "print(np.shape(N_k))"
   ]
  },
  {
   "cell_type": "code",
   "execution_count": null,
   "id": "16cadbae",
   "metadata": {},
   "outputs": [],
   "source": [
    "# use pymbar to do the multistate reweighing to find the free energies.\n",
    "mbar=pymbar.MBAR(energies,N_k,verbose=True) \n",
    "results = mbar.compute_free_energy_differences()\n",
    "results['Delta_f'][:,0]*5 # pymbar returns nondimensional, need to multiply by T to get free energies."
   ]
  },
  {
   "cell_type": "markdown",
   "id": "2d9940cf",
   "metadata": {},
   "source": [
    "Now, try these free energies above as the weights in idea 3 above . . . "
   ]
  },
  {
   "cell_type": "markdown",
   "id": "e30ffd17",
   "metadata": {},
   "source": [
    "**Challenge**: How would you calculate the expectations of the observables in the original potential? Come back to this after Idea 4."
   ]
  },
  {
   "cell_type": "markdown",
   "id": "d9566e4a",
   "metadata": {},
   "source": [
    "### Idea 4: How about running at set of different temperatures?"
   ]
  },
  {
   "cell_type": "markdown",
   "id": "bfc389b4",
   "metadata": {},
   "source": [
    "Let's try at simulation that bounced between different temperatures, BUT still preserves the distributions.  We will need to redefine state move!"
   ]
  },
  {
   "cell_type": "code",
   "execution_count": null,
   "id": "1a815fa9",
   "metadata": {},
   "outputs": [],
   "source": [
    "def MCstep_2D_stateT(x,iold,Ts,potential):\n",
    "\n",
    "    newstep = np.random.randint(0,len(Ts))  # jump to any random state - this is symmetric!\n",
    "    inew = newstep\n",
    "    pot = potential(x)\n",
    "    oldPT = pot/Ts[iold]\n",
    "    newPT = pot/Ts[inew]\n",
    "    \n",
    "    if newPT < oldPT:  # if the energy is lower, move\n",
    "        return inew\n",
    "    else:\n",
    "        if np.random.random() < np.exp(-(newPT-oldPT)):\n",
    "            return inew\n",
    "        else:\n",
    "            return iold"
   ]
  },
  {
   "cell_type": "code",
   "execution_count": null,
   "id": "14a10f43",
   "metadata": {},
   "outputs": [],
   "source": [
    "ntraj = 50000\n",
    "Ts = [0.5,1,2,4,8,16,32]\n",
    "xtraj = np.zeros(ntraj)\n",
    "itraj = np.zeros(ntraj,int)\n",
    "xtraj[0]=1.0\n",
    "itraj[0] = 0\n",
    "for i in range(ntraj-1):\n",
    "    if np.random.random() < 0.5:  # half the time, do a coordinate move\n",
    "        xtraj[i+1] = MCstep_1D(xtraj[i],Ts[itraj[i]],potentials[0])\n",
    "        itraj[i+1] = itraj[i]\n",
    "    else:   # half the time do a state move\n",
    "        itraj[i+1] = MCstep_2D_stateT(xtraj[i],itraj[i],Ts,potentials[0])\n",
    "        xtraj[i+1] = xtraj[i]"
   ]
  },
  {
   "cell_type": "code",
   "execution_count": null,
   "id": "e31f4eeb",
   "metadata": {},
   "outputs": [],
   "source": [
    "# let's plot the trajectory\n",
    "plt.plot(itraj)\n",
    "plt.ylabel('state')\n",
    "plt.xlabel('time')\n",
    "plt.show()\n",
    "plt.plot(xtraj)\n",
    "plt.ylabel('position')\n",
    "plt.xlabel('time')\n",
    "plt.show()"
   ]
  },
  {
   "cell_type": "code",
   "execution_count": null,
   "id": "66cdcd0f",
   "metadata": {},
   "outputs": [],
   "source": [
    "plt.hist(itraj,bins=len(Ts))\n",
    "plt.show()"
   ]
  },
  {
   "cell_type": "code",
   "execution_count": null,
   "id": "962a845b",
   "metadata": {},
   "outputs": [],
   "source": [
    "energies = potentials[0](xtraj)"
   ]
  },
  {
   "cell_type": "markdown",
   "id": "5e0c4459",
   "metadata": {},
   "source": [
    "Let's try to calculate the expectations in energy at each temperature, using mixture reweighting. "
   ]
  },
  {
   "cell_type": "code",
   "execution_count": null,
   "id": "8252b67a",
   "metadata": {},
   "outputs": [],
   "source": [
    "#rescaled energies for pymbar\n",
    "reduced_energies = np.zeros([len(Ts),len(xtraj)])\n",
    "for i,T in enumerate(Ts):\n",
    "    reduced_energies[i,:] = energies/T"
   ]
  },
  {
   "cell_type": "code",
   "execution_count": null,
   "id": "59170ca4",
   "metadata": {},
   "outputs": [],
   "source": [
    "N_k = np.zeros(len(Ts))\n",
    "for i in range(len(Ts)):\n",
    "    N_k[i] = (itraj==i).sum() # count how many samples there are at each temperature\n",
    "print(N_k)\n",
    "mbar=pymbar.MBAR(reduced_energies,N_k,verbose=True)\n",
    "results = mbar.compute_free_energy_differences()\n",
    "results['Delta_f'][:,0]*Ts"
   ]
  },
  {
   "cell_type": "markdown",
   "id": "1ac133b1",
   "metadata": {},
   "source": [
    "We can use reweighting from all of the temperature states to compute averages at each of the states."
   ]
  },
  {
   "cell_type": "code",
   "execution_count": null,
   "id": "1f84f0b6",
   "metadata": {},
   "outputs": [],
   "source": [
    "mbar.compute_expectations(energies)"
   ]
  },
  {
   "cell_type": "markdown",
   "id": "b9f22580",
   "metadata": {},
   "source": [
    "QUESTION: How well would this work with more complicated surfaces?"
   ]
  },
  {
   "cell_type": "markdown",
   "id": "228f59c9",
   "metadata": {},
   "source": [
    "ACTIVITY: It worked relatively well to How can you get this to sample the temperatures more evenly?"
   ]
  },
  {
   "cell_type": "code",
   "execution_count": null,
   "id": "006f47a0",
   "metadata": {},
   "outputs": [],
   "source": []
  }
 ],
 "metadata": {
  "kernelspec": {
   "display_name": "icomse-cpu",
   "language": "python",
   "name": "icomse-cpu"
  },
  "language_info": {
   "codemirror_mode": {
    "name": "ipython",
    "version": 3
   },
   "file_extension": ".py",
   "mimetype": "text/x-python",
   "name": "python",
   "nbconvert_exporter": "python",
   "pygments_lexer": "ipython3",
   "version": "3.9.13"
  }
 },
 "nbformat": 4,
 "nbformat_minor": 5
}
