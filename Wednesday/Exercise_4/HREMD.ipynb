{
 "cells": [
  {
   "cell_type": "markdown",
   "id": "6c30e558",
   "metadata": {
    "slideshow": {
     "slide_type": "slide"
    }
   },
   "source": [
    "# Exercise 4: Hamiltonian replica exchange molecular dynamics (HREMD)"
   ]
  },
  {
   "cell_type": "markdown",
   "id": "ddb64908",
   "metadata": {
    "slideshow": {
     "slide_type": "slide"
    }
   },
   "source": [
    "## Instructor/Author\n",
    "Wei-Tse Hsu\n",
    "- University of Colorado Boulder\n",
    "- www.weitsehsu.com\n",
    "- wehs7661@colorado.edu\n",
    "- [@WeiTseHsu](https://twitter.com/WeiTseHsu)\n",
    "\n",
    "If you're interested, check my personal website for more future posts/tutorials about advanced sampling methods!"
   ]
  },
  {
   "cell_type": "markdown",
   "id": "5bfd4870",
   "metadata": {
    "slideshow": {
     "slide_type": "slide"
    }
   },
   "source": [
    "In this exercise, the goal is to run a Hamiltonian replica exchange molecule dynamics (HREMD) simulation for a 4-site system and calculate its solvation free energy. This 4-site system is composed of 4 linearly-connected interaction sites. "
   ]
  },
  {
   "cell_type": "markdown",
   "id": "c869ed9e",
   "metadata": {
    "slideshow": {
     "slide_type": "slide"
    }
   },
   "source": [
    "Here, we will use 8 alchemical intermediate states (hence 8 replicas in the HREMD simulation) to gradually turn off van der Waals interactions between the molecule and the solvent environment. "
   ]
  },
  {
   "cell_type": "markdown",
   "id": "f13acf39",
   "metadata": {
    "slideshow": {
     "slide_type": "fragment"
    }
   },
   "source": [
    "While the alchemical pathway (the $\\lambda$ value for each state) should be indpedendent of the free energy, the choice of pathway will greatly affect the sampling efficiency. Here are a few rules of thumb: \n",
    "- Maximize the similiarity between neighboring states.\n",
    "- Turn off charges before turning off the van der Waals interactions, so there won't be infinite attractive potential.\n",
    "- Use the soft-core potential when turning off the van der Waals interactions to avoid the singularity problem."
   ]
  },
  {
   "cell_type": "markdown",
   "id": "b5ed2742",
   "metadata": {
    "slideshow": {
     "slide_type": "slide"
    }
   },
   "source": [
    "## 1. Preparation of the input files"
   ]
  },
  {
   "cell_type": "code",
   "execution_count": 1,
   "id": "cef59f30",
   "metadata": {
    "slideshow": {
     "slide_type": "slide"
    }
   },
   "outputs": [],
   "source": [
    "%%bash\n",
    "# Here we remove the output of the exercise if there is any.\n",
    "dirs=(state_* dhdl_files theta_files)\n",
    "for dir in \"${dirs[@]}\"; do\n",
    "    if ls -d \"$dir\" >/dev/null 2>&1; then\n",
    "        rm -rf \"$dir\"\n",
    "    fi\n",
    "done"
   ]
  },
  {
   "cell_type": "markdown",
   "id": "8fd57da7",
   "metadata": {
    "slideshow": {
     "slide_type": "slide"
    }
   },
   "source": [
    "The major differences between an `mdp` file for REMD simulations and one for standard MD simulation lie in the options for free energy calculations and the specification of the alchemical variables. "
   ]
  },
  {
   "cell_type": "code",
   "execution_count": 2,
   "id": "02f08ab7",
   "metadata": {
    "slideshow": {
     "slide_type": "fragment"
    }
   },
   "outputs": [
    {
     "name": "stdout",
     "output_type": "stream",
     "text": [
      "\n",
      "; Free energy calculation\n",
      "free_energy              = yes\n",
      "calc-lambda-neighbors    = -1\n",
      "sc-alpha                 = 0.5\n",
      "sc-power                 = 1 \n",
      "couple-moltype           = LIG\n",
      "couple-lambda0           = vdw-q\n",
      "couple-lambda1           = none\n",
      "init-lambda-state        = 0\n",
      "\n",
      "nstdhdl                  = 100\n",
      "dhdl-print-energy        = total\n",
      "\n",
      "; lambda-states          = 1      2      3      4      5      6      7      8\n",
      "vdw-lambdas              = 0.00   0.15   0.30   0.45   0.60   0.75   0.90   1.00\n"
     ]
    }
   ],
   "source": [
    "%%bash\n",
    "tail -n 16 ../Inputs/4-site/HREMD.mdp"
   ]
  },
  {
   "cell_type": "code",
   "execution_count": 3,
   "id": "11255d15",
   "metadata": {
    "slideshow": {
     "slide_type": "slide"
    }
   },
   "outputs": [
    {
     "name": "stderr",
     "output_type": "stream",
     "text": [
      "                 :-) GROMACS - gmx grompp, 2020.2-MODIFIED (-:\n",
      "\n",
      "                            GROMACS is written by:\n",
      "     Emile Apol      Rossen Apostolov      Paul Bauer     Herman J.C. Berendsen\n",
      "    Par Bjelkmar      Christian Blau   Viacheslav Bolnykh     Kevin Boyd    \n",
      " Aldert van Buuren   Rudi van Drunen     Anton Feenstra       Alan Gray     \n",
      "  Gerrit Groenhof     Anca Hamuraru    Vincent Hindriksen  M. Eric Irrgang  \n",
      "  Aleksei Iupinov   Christoph Junghans     Joe Jordan     Dimitrios Karkoulis\n",
      "    Peter Kasson        Jiri Kraus      Carsten Kutzner      Per Larsson    \n",
      "  Justin A. Lemkul    Viveca Lindahl    Magnus Lundborg     Erik Marklund   \n",
      "    Pascal Merz     Pieter Meulenhoff    Teemu Murtola       Szilard Pall   \n",
      "    Sander Pronk      Roland Schulz      Michael Shirts    Alexey Shvetsov  \n",
      "   Alfons Sijbers     Peter Tieleman      Jon Vincent      Teemu Virolainen \n",
      " Christian Wennberg    Maarten Wolf      Artem Zhmurov   \n",
      "                           and the project leaders:\n",
      "        Mark Abraham, Berk Hess, Erik Lindahl, and David van der Spoel\n",
      "\n",
      "Copyright (c) 1991-2000, University of Groningen, The Netherlands.\n",
      "Copyright (c) 2001-2019, The GROMACS development team at\n",
      "Uppsala University, Stockholm University and\n",
      "the Royal Institute of Technology, Sweden.\n",
      "check out http://www.gromacs.org for more information.\n",
      "\n",
      "GROMACS is free software; you can redistribute it and/or modify it\n",
      "under the terms of the GNU Lesser General Public License\n",
      "as published by the Free Software Foundation; either version 2.1\n",
      "of the License, or (at your option) any later version.\n",
      "\n",
      "GROMACS:      gmx grompp, version 2020.2-MODIFIED\n",
      "Executable:   /jet/packages/spack/opt/spack/linux-centos8-zen2/gcc-10.2.0/gromacs-2020.2-xfnb3dvyae7ktyfp3kq63xgdxx5c45en/bin/gmx_mpi\n",
      "Data prefix:  /jet/packages/spack/opt/spack/linux-centos8-zen2/gcc-10.2.0/gromacs-2020.2-xfnb3dvyae7ktyfp3kq63xgdxx5c45en\n",
      "Working dir:  /ocean/projects/cts160011p/wehs7661/3rd_workshop_advanced_sampling/Wednesday/Exercise_4/state_0\n",
      "Command line:\n",
      "  gmx_mpi grompp -f HREMD.mdp -c sys.gro -p sys.top -o HREMD.tpr\n",
      "\n",
      "Ignoring obsolete mdp entry 'ns_type'\n",
      "Setting the LD random seed to 1064790434\n",
      "Generated 10 of the 10 non-bonded parameter combinations\n",
      "Excluding 3 bonded neighbours molecule type 'LIG'\n",
      "Excluding 2 bonded neighbours molecule type 'SOL'\n",
      "Coupling 1 copies of molecule type 'LIG'\n",
      "Velocities were taken from a Maxwell distribution at 300 K\n"
     ]
    },
    {
     "name": "stdout",
     "output_type": "stream",
     "text": [
      "turning H bonds into constraints...\n",
      "turning H bonds into constraints...\n",
      "Analysing residue names:\n",
      "There are:     1      Other residues\n",
      "There are:   130      Water residues\n",
      "Analysing residues not classified as Protein/DNA/RNA/Water and splitting into groups...\n"
     ]
    },
    {
     "name": "stderr",
     "output_type": "stream",
     "text": [
      "Number of degrees of freedom in T-Coupling group System is 789.00\n",
      "Estimate for the relative computational load of the PME mesh part: 0.42\n",
      "\n",
      "GROMACS reminds you: \"I couldn't claim that I was smarter than sixty-five other guys - but the average of sixty-five other guys, certainly!\" (Richard Feynman)\n",
      "\n"
     ]
    },
    {
     "name": "stdout",
     "output_type": "stream",
     "text": [
      "Determining Verlet buffer for a tolerance of 0.005 kJ/mol/ps at 300 K\n",
      "Calculated rlist for 1x1 atom pair-list as 0.704 nm, buffer size 0.004 nm\n",
      "Set rlist, assuming 4x4 atom pair-list, to 0.700 nm, buffer size 0.000 nm\n",
      "Note that mdrun will redetermine rlist based on the actual pair-list setup\n",
      "Calculating fourier grid dimensions for X Y Z\n",
      "Using a fourier grid of 14x14x14, spacing 0.114 0.114 0.114\n",
      "This run will generate roughly 3 Mb of data\n"
     ]
    },
    {
     "name": "stderr",
     "output_type": "stream",
     "text": [
      "                 :-) GROMACS - gmx grompp, 2020.2-MODIFIED (-:\n",
      "\n",
      "                            GROMACS is written by:\n",
      "     Emile Apol      Rossen Apostolov      Paul Bauer     Herman J.C. Berendsen\n",
      "    Par Bjelkmar      Christian Blau   Viacheslav Bolnykh     Kevin Boyd    \n",
      " Aldert van Buuren   Rudi van Drunen     Anton Feenstra       Alan Gray     \n",
      "  Gerrit Groenhof     Anca Hamuraru    Vincent Hindriksen  M. Eric Irrgang  \n",
      "  Aleksei Iupinov   Christoph Junghans     Joe Jordan     Dimitrios Karkoulis\n",
      "    Peter Kasson        Jiri Kraus      Carsten Kutzner      Per Larsson    \n",
      "  Justin A. Lemkul    Viveca Lindahl    Magnus Lundborg     Erik Marklund   \n",
      "    Pascal Merz     Pieter Meulenhoff    Teemu Murtola       Szilard Pall   \n",
      "    Sander Pronk      Roland Schulz      Michael Shirts    Alexey Shvetsov  \n",
      "   Alfons Sijbers     Peter Tieleman      Jon Vincent      Teemu Virolainen \n",
      " Christian Wennberg    Maarten Wolf      Artem Zhmurov   \n",
      "                           and the project leaders:\n",
      "        Mark Abraham, Berk Hess, Erik Lindahl, and David van der Spoel\n",
      "\n",
      "Copyright (c) 1991-2000, University of Groningen, The Netherlands.\n",
      "Copyright (c) 2001-2019, The GROMACS development team at\n",
      "Uppsala University, Stockholm University and\n",
      "the Royal Institute of Technology, Sweden.\n",
      "check out http://www.gromacs.org for more information.\n",
      "\n",
      "GROMACS is free software; you can redistribute it and/or modify it\n",
      "under the terms of the GNU Lesser General Public License\n",
      "as published by the Free Software Foundation; either version 2.1\n",
      "of the License, or (at your option) any later version.\n",
      "\n",
      "GROMACS:      gmx grompp, version 2020.2-MODIFIED\n",
      "Executable:   /jet/packages/spack/opt/spack/linux-centos8-zen2/gcc-10.2.0/gromacs-2020.2-xfnb3dvyae7ktyfp3kq63xgdxx5c45en/bin/gmx_mpi\n",
      "Data prefix:  /jet/packages/spack/opt/spack/linux-centos8-zen2/gcc-10.2.0/gromacs-2020.2-xfnb3dvyae7ktyfp3kq63xgdxx5c45en\n",
      "Working dir:  /ocean/projects/cts160011p/wehs7661/3rd_workshop_advanced_sampling/Wednesday/Exercise_4/state_1\n",
      "Command line:\n",
      "  gmx_mpi grompp -f HREMD.mdp -c sys.gro -p sys.top -o HREMD.tpr\n",
      "\n",
      "Ignoring obsolete mdp entry 'ns_type'\n",
      "Setting the LD random seed to -904988930\n",
      "Generated 10 of the 10 non-bonded parameter combinations\n",
      "Excluding 3 bonded neighbours molecule type 'LIG'\n",
      "Excluding 2 bonded neighbours molecule type 'SOL'\n",
      "Coupling 1 copies of molecule type 'LIG'\n",
      "Velocities were taken from a Maxwell distribution at 300 K\n"
     ]
    },
    {
     "name": "stdout",
     "output_type": "stream",
     "text": [
      "turning H bonds into constraints...\n",
      "turning H bonds into constraints...\n",
      "Analysing residue names:\n",
      "There are:     1      Other residues\n",
      "There are:   130      Water residues\n",
      "Analysing residues not classified as Protein/DNA/RNA/Water and splitting into groups...\n",
      "Determining Verlet buffer for a tolerance of 0.005 kJ/mol/ps at 300 K\n",
      "Calculated rlist for 1x1 atom pair-list as 0.704 nm, buffer size 0.004 nm\n",
      "Set rlist, assuming 4x4 atom pair-list, to 0.700 nm, buffer size 0.000 nm\n",
      "Note that mdrun will redetermine rlist based on the actual pair-list setup\n",
      "Calculating fourier grid dimensions for X Y Z\n",
      "Using a fourier grid of 14x14x14, spacing 0.114 0.114 0.114\n",
      "This run will generate roughly 3 Mb of data\n"
     ]
    },
    {
     "name": "stderr",
     "output_type": "stream",
     "text": [
      "Number of degrees of freedom in T-Coupling group System is 789.00\n",
      "Estimate for the relative computational load of the PME mesh part: 0.42\n",
      "\n",
      "GROMACS reminds you: \"Rockets are cool. There's no getting around that.\" (Elon Musk)\n",
      "\n",
      "                 :-) GROMACS - gmx grompp, 2020.2-MODIFIED (-:\n",
      "\n",
      "                            GROMACS is written by:\n",
      "     Emile Apol      Rossen Apostolov      Paul Bauer     Herman J.C. Berendsen\n",
      "    Par Bjelkmar      Christian Blau   Viacheslav Bolnykh     Kevin Boyd    \n",
      " Aldert van Buuren   Rudi van Drunen     Anton Feenstra       Alan Gray     \n",
      "  Gerrit Groenhof     Anca Hamuraru    Vincent Hindriksen  M. Eric Irrgang  \n",
      "  Aleksei Iupinov   Christoph Junghans     Joe Jordan     Dimitrios Karkoulis\n",
      "    Peter Kasson        Jiri Kraus      Carsten Kutzner      Per Larsson    \n",
      "  Justin A. Lemkul    Viveca Lindahl    Magnus Lundborg     Erik Marklund   \n",
      "    Pascal Merz     Pieter Meulenhoff    Teemu Murtola       Szilard Pall   \n",
      "    Sander Pronk      Roland Schulz      Michael Shirts    Alexey Shvetsov  \n",
      "   Alfons Sijbers     Peter Tieleman      Jon Vincent      Teemu Virolainen \n",
      " Christian Wennberg    Maarten Wolf      Artem Zhmurov   \n",
      "                           and the project leaders:\n",
      "        Mark Abraham, Berk Hess, Erik Lindahl, and David van der Spoel\n",
      "\n",
      "Copyright (c) 1991-2000, University of Groningen, The Netherlands.\n",
      "Copyright (c) 2001-2019, The GROMACS development team at\n",
      "Uppsala University, Stockholm University and\n",
      "the Royal Institute of Technology, Sweden.\n",
      "check out http://www.gromacs.org for more information.\n",
      "\n",
      "GROMACS is free software; you can redistribute it and/or modify it\n",
      "under the terms of the GNU Lesser General Public License\n",
      "as published by the Free Software Foundation; either version 2.1\n",
      "of the License, or (at your option) any later version.\n",
      "\n",
      "GROMACS:      gmx grompp, version 2020.2-MODIFIED\n",
      "Executable:   /jet/packages/spack/opt/spack/linux-centos8-zen2/gcc-10.2.0/gromacs-2020.2-xfnb3dvyae7ktyfp3kq63xgdxx5c45en/bin/gmx_mpi\n",
      "Data prefix:  /jet/packages/spack/opt/spack/linux-centos8-zen2/gcc-10.2.0/gromacs-2020.2-xfnb3dvyae7ktyfp3kq63xgdxx5c45en\n",
      "Working dir:  /ocean/projects/cts160011p/wehs7661/3rd_workshop_advanced_sampling/Wednesday/Exercise_4/state_2\n",
      "Command line:\n",
      "  gmx_mpi grompp -f HREMD.mdp -c sys.gro -p sys.top -o HREMD.tpr\n",
      "\n",
      "Ignoring obsolete mdp entry 'ns_type'\n",
      "Setting the LD random seed to 2011780094\n",
      "Generated 10 of the 10 non-bonded parameter combinations\n",
      "Excluding 3 bonded neighbours molecule type 'LIG'\n",
      "Excluding 2 bonded neighbours molecule type 'SOL'\n",
      "Coupling 1 copies of molecule type 'LIG'\n"
     ]
    },
    {
     "name": "stdout",
     "output_type": "stream",
     "text": [
      "turning H bonds into constraints...\n",
      "turning H bonds into constraints...\n",
      "Analysing residue names:\n",
      "There are:     1      Other residues\n",
      "There are:   130      Water residues\n",
      "Analysing residues not classified as Protein/DNA/RNA/Water and splitting into groups...\n",
      "Determining Verlet buffer for a tolerance of 0.005 kJ/mol/ps at 300 K\n",
      "Calculated rlist for 1x1 atom pair-list as 0.704 nm, buffer size 0.004 nm\n",
      "Set rlist, assuming 4x4 atom pair-list, to 0.700 nm, buffer size 0.000 nm\n",
      "Note that mdrun will redetermine rlist based on the actual pair-list setup\n",
      "Calculating fourier grid dimensions for X Y Z\n",
      "Using a fourier grid of 14x14x14, spacing 0.114 0.114 0.114\n",
      "This run will generate roughly 3 Mb of data\n"
     ]
    },
    {
     "name": "stderr",
     "output_type": "stream",
     "text": [
      "Velocities were taken from a Maxwell distribution at 300 K\n",
      "Number of degrees of freedom in T-Coupling group System is 789.00\n",
      "Estimate for the relative computational load of the PME mesh part: 0.42\n",
      "\n",
      "GROMACS reminds you: \"Uh-oh, We're In Trouble\" (Shampoo)\n",
      "\n",
      "                 :-) GROMACS - gmx grompp, 2020.2-MODIFIED (-:\n",
      "\n",
      "                            GROMACS is written by:\n",
      "     Emile Apol      Rossen Apostolov      Paul Bauer     Herman J.C. Berendsen\n",
      "    Par Bjelkmar      Christian Blau   Viacheslav Bolnykh     Kevin Boyd    \n",
      " Aldert van Buuren   Rudi van Drunen     Anton Feenstra       Alan Gray     \n",
      "  Gerrit Groenhof     Anca Hamuraru    Vincent Hindriksen  M. Eric Irrgang  \n",
      "  Aleksei Iupinov   Christoph Junghans     Joe Jordan     Dimitrios Karkoulis\n",
      "    Peter Kasson        Jiri Kraus      Carsten Kutzner      Per Larsson    \n",
      "  Justin A. Lemkul    Viveca Lindahl    Magnus Lundborg     Erik Marklund   \n",
      "    Pascal Merz     Pieter Meulenhoff    Teemu Murtola       Szilard Pall   \n",
      "    Sander Pronk      Roland Schulz      Michael Shirts    Alexey Shvetsov  \n",
      "   Alfons Sijbers     Peter Tieleman      Jon Vincent      Teemu Virolainen \n",
      " Christian Wennberg    Maarten Wolf      Artem Zhmurov   \n",
      "                           and the project leaders:\n",
      "        Mark Abraham, Berk Hess, Erik Lindahl, and David van der Spoel\n",
      "\n",
      "Copyright (c) 1991-2000, University of Groningen, The Netherlands.\n",
      "Copyright (c) 2001-2019, The GROMACS development team at\n",
      "Uppsala University, Stockholm University and\n",
      "the Royal Institute of Technology, Sweden.\n",
      "check out http://www.gromacs.org for more information.\n",
      "\n",
      "GROMACS is free software; you can redistribute it and/or modify it\n",
      "under the terms of the GNU Lesser General Public License\n",
      "as published by the Free Software Foundation; either version 2.1\n",
      "of the License, or (at your option) any later version.\n",
      "\n",
      "GROMACS:      gmx grompp, version 2020.2-MODIFIED\n",
      "Executable:   /jet/packages/spack/opt/spack/linux-centos8-zen2/gcc-10.2.0/gromacs-2020.2-xfnb3dvyae7ktyfp3kq63xgdxx5c45en/bin/gmx_mpi\n",
      "Data prefix:  /jet/packages/spack/opt/spack/linux-centos8-zen2/gcc-10.2.0/gromacs-2020.2-xfnb3dvyae7ktyfp3kq63xgdxx5c45en\n",
      "Working dir:  /ocean/projects/cts160011p/wehs7661/3rd_workshop_advanced_sampling/Wednesday/Exercise_4/state_3\n",
      "Command line:\n",
      "  gmx_mpi grompp -f HREMD.mdp -c sys.gro -p sys.top -o HREMD.tpr\n",
      "\n",
      "Ignoring obsolete mdp entry 'ns_type'\n",
      "Setting the LD random seed to 2115557232\n",
      "Generated 10 of the 10 non-bonded parameter combinations\n",
      "Excluding 3 bonded neighbours molecule type 'LIG'\n",
      "Excluding 2 bonded neighbours molecule type 'SOL'\n",
      "Coupling 1 copies of molecule type 'LIG'\n",
      "Velocities were taken from a Maxwell distribution at 300 K\n"
     ]
    },
    {
     "name": "stdout",
     "output_type": "stream",
     "text": [
      "turning H bonds into constraints...\n",
      "turning H bonds into constraints...\n",
      "Analysing residue names:\n",
      "There are:     1      Other residues\n",
      "There are:   130      Water residues\n",
      "Analysing residues not classified as Protein/DNA/RNA/Water and splitting into groups...\n"
     ]
    },
    {
     "name": "stderr",
     "output_type": "stream",
     "text": [
      "Number of degrees of freedom in T-Coupling group System is 789.00\n",
      "Estimate for the relative computational load of the PME mesh part: 0.42\n",
      "\n",
      "GROMACS reminds you: \"Everything's formed from particles\" (Van der Graaf Generator)\n",
      "\n"
     ]
    },
    {
     "name": "stdout",
     "output_type": "stream",
     "text": [
      "Determining Verlet buffer for a tolerance of 0.005 kJ/mol/ps at 300 K\n",
      "Calculated rlist for 1x1 atom pair-list as 0.704 nm, buffer size 0.004 nm\n",
      "Set rlist, assuming 4x4 atom pair-list, to 0.700 nm, buffer size 0.000 nm\n",
      "Note that mdrun will redetermine rlist based on the actual pair-list setup\n",
      "Calculating fourier grid dimensions for X Y Z\n",
      "Using a fourier grid of 14x14x14, spacing 0.114 0.114 0.114\n",
      "This run will generate roughly 3 Mb of data\n"
     ]
    },
    {
     "name": "stderr",
     "output_type": "stream",
     "text": [
      "                 :-) GROMACS - gmx grompp, 2020.2-MODIFIED (-:\n",
      "\n",
      "                            GROMACS is written by:\n",
      "     Emile Apol      Rossen Apostolov      Paul Bauer     Herman J.C. Berendsen\n",
      "    Par Bjelkmar      Christian Blau   Viacheslav Bolnykh     Kevin Boyd    \n",
      " Aldert van Buuren   Rudi van Drunen     Anton Feenstra       Alan Gray     \n",
      "  Gerrit Groenhof     Anca Hamuraru    Vincent Hindriksen  M. Eric Irrgang  \n",
      "  Aleksei Iupinov   Christoph Junghans     Joe Jordan     Dimitrios Karkoulis\n",
      "    Peter Kasson        Jiri Kraus      Carsten Kutzner      Per Larsson    \n",
      "  Justin A. Lemkul    Viveca Lindahl    Magnus Lundborg     Erik Marklund   \n",
      "    Pascal Merz     Pieter Meulenhoff    Teemu Murtola       Szilard Pall   \n",
      "    Sander Pronk      Roland Schulz      Michael Shirts    Alexey Shvetsov  \n",
      "   Alfons Sijbers     Peter Tieleman      Jon Vincent      Teemu Virolainen \n",
      " Christian Wennberg    Maarten Wolf      Artem Zhmurov   \n",
      "                           and the project leaders:\n",
      "        Mark Abraham, Berk Hess, Erik Lindahl, and David van der Spoel\n",
      "\n",
      "Copyright (c) 1991-2000, University of Groningen, The Netherlands.\n",
      "Copyright (c) 2001-2019, The GROMACS development team at\n",
      "Uppsala University, Stockholm University and\n",
      "the Royal Institute of Technology, Sweden.\n",
      "check out http://www.gromacs.org for more information.\n",
      "\n",
      "GROMACS is free software; you can redistribute it and/or modify it\n",
      "under the terms of the GNU Lesser General Public License\n",
      "as published by the Free Software Foundation; either version 2.1\n",
      "of the License, or (at your option) any later version.\n",
      "\n",
      "GROMACS:      gmx grompp, version 2020.2-MODIFIED\n",
      "Executable:   /jet/packages/spack/opt/spack/linux-centos8-zen2/gcc-10.2.0/gromacs-2020.2-xfnb3dvyae7ktyfp3kq63xgdxx5c45en/bin/gmx_mpi\n",
      "Data prefix:  /jet/packages/spack/opt/spack/linux-centos8-zen2/gcc-10.2.0/gromacs-2020.2-xfnb3dvyae7ktyfp3kq63xgdxx5c45en\n",
      "Working dir:  /ocean/projects/cts160011p/wehs7661/3rd_workshop_advanced_sampling/Wednesday/Exercise_4/state_4\n",
      "Command line:\n",
      "  gmx_mpi grompp -f HREMD.mdp -c sys.gro -p sys.top -o HREMD.tpr\n",
      "\n",
      "Ignoring obsolete mdp entry 'ns_type'\n",
      "Setting the LD random seed to 1205544779\n",
      "Generated 10 of the 10 non-bonded parameter combinations\n",
      "Excluding 3 bonded neighbours molecule type 'LIG'\n",
      "Excluding 2 bonded neighbours molecule type 'SOL'\n",
      "Coupling 1 copies of molecule type 'LIG'\n",
      "Velocities were taken from a Maxwell distribution at 300 K\n",
      "Number of degrees of freedom in T-Coupling group System is 789.00\n",
      "Estimate for the relative computational load of the PME mesh part: 0.42\n",
      "\n",
      "GROMACS reminds you: \"I Can't Shake It\" (Dinosaur Jr)\n",
      "\n"
     ]
    },
    {
     "name": "stdout",
     "output_type": "stream",
     "text": [
      "turning H bonds into constraints...\n",
      "turning H bonds into constraints...\n",
      "Analysing residue names:\n",
      "There are:     1      Other residues\n",
      "There are:   130      Water residues\n",
      "Analysing residues not classified as Protein/DNA/RNA/Water and splitting into groups...\n",
      "Determining Verlet buffer for a tolerance of 0.005 kJ/mol/ps at 300 K\n",
      "Calculated rlist for 1x1 atom pair-list as 0.704 nm, buffer size 0.004 nm\n",
      "Set rlist, assuming 4x4 atom pair-list, to 0.700 nm, buffer size 0.000 nm\n",
      "Note that mdrun will redetermine rlist based on the actual pair-list setup\n",
      "Calculating fourier grid dimensions for X Y Z\n",
      "Using a fourier grid of 14x14x14, spacing 0.114 0.114 0.114\n",
      "This run will generate roughly 3 Mb of data\n"
     ]
    },
    {
     "name": "stderr",
     "output_type": "stream",
     "text": [
      "                 :-) GROMACS - gmx grompp, 2020.2-MODIFIED (-:\n",
      "\n",
      "                            GROMACS is written by:\n",
      "     Emile Apol      Rossen Apostolov      Paul Bauer     Herman J.C. Berendsen\n",
      "    Par Bjelkmar      Christian Blau   Viacheslav Bolnykh     Kevin Boyd    \n",
      " Aldert van Buuren   Rudi van Drunen     Anton Feenstra       Alan Gray     \n",
      "  Gerrit Groenhof     Anca Hamuraru    Vincent Hindriksen  M. Eric Irrgang  \n",
      "  Aleksei Iupinov   Christoph Junghans     Joe Jordan     Dimitrios Karkoulis\n",
      "    Peter Kasson        Jiri Kraus      Carsten Kutzner      Per Larsson    \n",
      "  Justin A. Lemkul    Viveca Lindahl    Magnus Lundborg     Erik Marklund   \n",
      "    Pascal Merz     Pieter Meulenhoff    Teemu Murtola       Szilard Pall   \n",
      "    Sander Pronk      Roland Schulz      Michael Shirts    Alexey Shvetsov  \n",
      "   Alfons Sijbers     Peter Tieleman      Jon Vincent      Teemu Virolainen \n",
      " Christian Wennberg    Maarten Wolf      Artem Zhmurov   \n",
      "                           and the project leaders:\n",
      "        Mark Abraham, Berk Hess, Erik Lindahl, and David van der Spoel\n",
      "\n",
      "Copyright (c) 1991-2000, University of Groningen, The Netherlands.\n",
      "Copyright (c) 2001-2019, The GROMACS development team at\n",
      "Uppsala University, Stockholm University and\n",
      "the Royal Institute of Technology, Sweden.\n",
      "check out http://www.gromacs.org for more information.\n",
      "\n",
      "GROMACS is free software; you can redistribute it and/or modify it\n",
      "under the terms of the GNU Lesser General Public License\n",
      "as published by the Free Software Foundation; either version 2.1\n",
      "of the License, or (at your option) any later version.\n",
      "\n",
      "GROMACS:      gmx grompp, version 2020.2-MODIFIED\n",
      "Executable:   /jet/packages/spack/opt/spack/linux-centos8-zen2/gcc-10.2.0/gromacs-2020.2-xfnb3dvyae7ktyfp3kq63xgdxx5c45en/bin/gmx_mpi\n",
      "Data prefix:  /jet/packages/spack/opt/spack/linux-centos8-zen2/gcc-10.2.0/gromacs-2020.2-xfnb3dvyae7ktyfp3kq63xgdxx5c45en\n",
      "Working dir:  /ocean/projects/cts160011p/wehs7661/3rd_workshop_advanced_sampling/Wednesday/Exercise_4/state_5\n",
      "Command line:\n",
      "  gmx_mpi grompp -f HREMD.mdp -c sys.gro -p sys.top -o HREMD.tpr\n",
      "\n",
      "Ignoring obsolete mdp entry 'ns_type'\n",
      "Setting the LD random seed to -2030062320\n",
      "Generated 10 of the 10 non-bonded parameter combinations\n",
      "Excluding 3 bonded neighbours molecule type 'LIG'\n",
      "Excluding 2 bonded neighbours molecule type 'SOL'\n",
      "Coupling 1 copies of molecule type 'LIG'\n",
      "Velocities were taken from a Maxwell distribution at 300 K\n",
      "Number of degrees of freedom in T-Coupling group System is 789.00\n",
      "Estimate for the relative computational load of the PME mesh part: 0.42\n",
      "\n",
      "GROMACS reminds you: \"The three principal virtues of a programmer are Laziness, Impatience, and Hubris\" (Larry Wall)\n",
      "\n"
     ]
    },
    {
     "name": "stdout",
     "output_type": "stream",
     "text": [
      "turning H bonds into constraints...\n",
      "turning H bonds into constraints...\n",
      "Analysing residue names:\n",
      "There are:     1      Other residues\n",
      "There are:   130      Water residues\n",
      "Analysing residues not classified as Protein/DNA/RNA/Water and splitting into groups...\n",
      "Determining Verlet buffer for a tolerance of 0.005 kJ/mol/ps at 300 K\n",
      "Calculated rlist for 1x1 atom pair-list as 0.704 nm, buffer size 0.004 nm\n",
      "Set rlist, assuming 4x4 atom pair-list, to 0.700 nm, buffer size 0.000 nm\n",
      "Note that mdrun will redetermine rlist based on the actual pair-list setup\n",
      "Calculating fourier grid dimensions for X Y Z\n",
      "Using a fourier grid of 14x14x14, spacing 0.114 0.114 0.114\n",
      "This run will generate roughly 3 Mb of data\n"
     ]
    },
    {
     "name": "stderr",
     "output_type": "stream",
     "text": [
      "                 :-) GROMACS - gmx grompp, 2020.2-MODIFIED (-:\n",
      "\n",
      "                            GROMACS is written by:\n",
      "     Emile Apol      Rossen Apostolov      Paul Bauer     Herman J.C. Berendsen\n",
      "    Par Bjelkmar      Christian Blau   Viacheslav Bolnykh     Kevin Boyd    \n",
      " Aldert van Buuren   Rudi van Drunen     Anton Feenstra       Alan Gray     \n",
      "  Gerrit Groenhof     Anca Hamuraru    Vincent Hindriksen  M. Eric Irrgang  \n",
      "  Aleksei Iupinov   Christoph Junghans     Joe Jordan     Dimitrios Karkoulis\n",
      "    Peter Kasson        Jiri Kraus      Carsten Kutzner      Per Larsson    \n",
      "  Justin A. Lemkul    Viveca Lindahl    Magnus Lundborg     Erik Marklund   \n",
      "    Pascal Merz     Pieter Meulenhoff    Teemu Murtola       Szilard Pall   \n",
      "    Sander Pronk      Roland Schulz      Michael Shirts    Alexey Shvetsov  \n",
      "   Alfons Sijbers     Peter Tieleman      Jon Vincent      Teemu Virolainen \n",
      " Christian Wennberg    Maarten Wolf      Artem Zhmurov   \n",
      "                           and the project leaders:\n",
      "        Mark Abraham, Berk Hess, Erik Lindahl, and David van der Spoel\n",
      "\n",
      "Copyright (c) 1991-2000, University of Groningen, The Netherlands.\n",
      "Copyright (c) 2001-2019, The GROMACS development team at\n",
      "Uppsala University, Stockholm University and\n",
      "the Royal Institute of Technology, Sweden.\n",
      "check out http://www.gromacs.org for more information.\n",
      "\n",
      "GROMACS is free software; you can redistribute it and/or modify it\n",
      "under the terms of the GNU Lesser General Public License\n",
      "as published by the Free Software Foundation; either version 2.1\n",
      "of the License, or (at your option) any later version.\n",
      "\n",
      "GROMACS:      gmx grompp, version 2020.2-MODIFIED\n",
      "Executable:   /jet/packages/spack/opt/spack/linux-centos8-zen2/gcc-10.2.0/gromacs-2020.2-xfnb3dvyae7ktyfp3kq63xgdxx5c45en/bin/gmx_mpi\n",
      "Data prefix:  /jet/packages/spack/opt/spack/linux-centos8-zen2/gcc-10.2.0/gromacs-2020.2-xfnb3dvyae7ktyfp3kq63xgdxx5c45en\n",
      "Working dir:  /ocean/projects/cts160011p/wehs7661/3rd_workshop_advanced_sampling/Wednesday/Exercise_4/state_6\n",
      "Command line:\n",
      "  gmx_mpi grompp -f HREMD.mdp -c sys.gro -p sys.top -o HREMD.tpr\n",
      "\n",
      "Ignoring obsolete mdp entry 'ns_type'\n",
      "Setting the LD random seed to -1206672372\n",
      "Generated 10 of the 10 non-bonded parameter combinations\n",
      "Excluding 3 bonded neighbours molecule type 'LIG'\n",
      "Excluding 2 bonded neighbours molecule type 'SOL'\n",
      "Coupling 1 copies of molecule type 'LIG'\n",
      "Velocities were taken from a Maxwell distribution at 300 K\n",
      "Number of degrees of freedom in T-Coupling group System is 789.00\n",
      "Estimate for the relative computational load of the PME mesh part: 0.42\n"
     ]
    },
    {
     "name": "stdout",
     "output_type": "stream",
     "text": [
      "turning H bonds into constraints...\n",
      "turning H bonds into constraints...\n",
      "Analysing residue names:\n",
      "There are:     1      Other residues\n",
      "There are:   130      Water residues\n",
      "Analysing residues not classified as Protein/DNA/RNA/Water and splitting into groups...\n",
      "Determining Verlet buffer for a tolerance of 0.005 kJ/mol/ps at 300 K\n",
      "Calculated rlist for 1x1 atom pair-list as 0.704 nm, buffer size 0.004 nm\n",
      "Set rlist, assuming 4x4 atom pair-list, to 0.700 nm, buffer size 0.000 nm\n",
      "Note that mdrun will redetermine rlist based on the actual pair-list setup\n",
      "Calculating fourier grid dimensions for X Y Z\n",
      "Using a fourier grid of 14x14x14, spacing 0.114 0.114 0.114\n",
      "This run will generate roughly 3 Mb of data\n"
     ]
    },
    {
     "name": "stderr",
     "output_type": "stream",
     "text": [
      "\n",
      "GROMACS reminds you: \"Player Sleeps With the Fishes\" (Ein Bekanntes Spiel Von ID Software)\n",
      "\n",
      "                 :-) GROMACS - gmx grompp, 2020.2-MODIFIED (-:\n",
      "\n",
      "                            GROMACS is written by:\n",
      "     Emile Apol      Rossen Apostolov      Paul Bauer     Herman J.C. Berendsen\n",
      "    Par Bjelkmar      Christian Blau   Viacheslav Bolnykh     Kevin Boyd    \n",
      " Aldert van Buuren   Rudi van Drunen     Anton Feenstra       Alan Gray     \n",
      "  Gerrit Groenhof     Anca Hamuraru    Vincent Hindriksen  M. Eric Irrgang  \n",
      "  Aleksei Iupinov   Christoph Junghans     Joe Jordan     Dimitrios Karkoulis\n",
      "    Peter Kasson        Jiri Kraus      Carsten Kutzner      Per Larsson    \n",
      "  Justin A. Lemkul    Viveca Lindahl    Magnus Lundborg     Erik Marklund   \n",
      "    Pascal Merz     Pieter Meulenhoff    Teemu Murtola       Szilard Pall   \n",
      "    Sander Pronk      Roland Schulz      Michael Shirts    Alexey Shvetsov  \n",
      "   Alfons Sijbers     Peter Tieleman      Jon Vincent      Teemu Virolainen \n",
      " Christian Wennberg    Maarten Wolf      Artem Zhmurov   \n",
      "                           and the project leaders:\n",
      "        Mark Abraham, Berk Hess, Erik Lindahl, and David van der Spoel\n",
      "\n",
      "Copyright (c) 1991-2000, University of Groningen, The Netherlands.\n",
      "Copyright (c) 2001-2019, The GROMACS development team at\n",
      "Uppsala University, Stockholm University and\n",
      "the Royal Institute of Technology, Sweden.\n",
      "check out http://www.gromacs.org for more information.\n",
      "\n",
      "GROMACS is free software; you can redistribute it and/or modify it\n",
      "under the terms of the GNU Lesser General Public License\n",
      "as published by the Free Software Foundation; either version 2.1\n",
      "of the License, or (at your option) any later version.\n",
      "\n",
      "GROMACS:      gmx grompp, version 2020.2-MODIFIED\n",
      "Executable:   /jet/packages/spack/opt/spack/linux-centos8-zen2/gcc-10.2.0/gromacs-2020.2-xfnb3dvyae7ktyfp3kq63xgdxx5c45en/bin/gmx_mpi\n",
      "Data prefix:  /jet/packages/spack/opt/spack/linux-centos8-zen2/gcc-10.2.0/gromacs-2020.2-xfnb3dvyae7ktyfp3kq63xgdxx5c45en\n",
      "Working dir:  /ocean/projects/cts160011p/wehs7661/3rd_workshop_advanced_sampling/Wednesday/Exercise_4/state_7\n",
      "Command line:\n",
      "  gmx_mpi grompp -f HREMD.mdp -c sys.gro -p sys.top -o HREMD.tpr\n",
      "\n",
      "Ignoring obsolete mdp entry 'ns_type'\n",
      "Setting the LD random seed to -395040295\n",
      "Generated 10 of the 10 non-bonded parameter combinations\n",
      "Excluding 3 bonded neighbours molecule type 'LIG'\n",
      "Excluding 2 bonded neighbours molecule type 'SOL'\n",
      "Coupling 1 copies of molecule type 'LIG'\n",
      "Velocities were taken from a Maxwell distribution at 300 K\n",
      "Number of degrees of freedom in T-Coupling group System is 789.00\n"
     ]
    },
    {
     "name": "stdout",
     "output_type": "stream",
     "text": [
      "turning H bonds into constraints...\n",
      "turning H bonds into constraints...\n",
      "Analysing residue names:\n",
      "There are:     1      Other residues\n",
      "There are:   130      Water residues\n",
      "Analysing residues not classified as Protein/DNA/RNA/Water and splitting into groups...\n",
      "Determining Verlet buffer for a tolerance of 0.005 kJ/mol/ps at 300 K\n",
      "Calculated rlist for 1x1 atom pair-list as 0.704 nm, buffer size 0.004 nm\n",
      "Set rlist, assuming 4x4 atom pair-list, to 0.700 nm, buffer size 0.000 nm\n",
      "Note that mdrun will redetermine rlist based on the actual pair-list setup\n",
      "Calculating fourier grid dimensions for X Y Z\n",
      "Using a fourier grid of 14x14x14, spacing 0.114 0.114 0.114\n",
      "This run will generate roughly 3 Mb of data\n"
     ]
    },
    {
     "name": "stderr",
     "output_type": "stream",
     "text": [
      "Estimate for the relative computational load of the PME mesh part: 0.42\n",
      "\n",
      "GROMACS reminds you: \"Big Data is like teenage sex: everyone talks about it, nobody really knows how to do it, everyone thinks everyone else is doing it, so everyone claims they are doing it...\" (Dan Ariely)\n",
      "\n"
     ]
    }
   ],
   "source": [
    "%%bash\n",
    "module load gromacs/2020.2-cpu openmpi/4.0.5-gcc10.2.0\n",
    "\n",
    "n=8      # number of alchemical intermediate states\n",
    "for i in {0..7}\n",
    "do\n",
    "    mkdir state_${i} && cd state_${i}\n",
    "    cp ../../Inputs/4-site/sys.gro .\n",
    "    cp ../../Inputs/4-site/sys.top .\n",
    "    cp ../../Inputs/4-site/HREMD.mdp .\n",
    "    sed -i -e \"s/init-lambda-state        = 0/init-lambda-state        = ${i}/g\" HREMD.mdp\n",
    "    mpirun -np 1 gmx_mpi grompp -f HREMD.mdp -c sys.gro -p sys.top -o HREMD.tpr && cd ../\n",
    "done"
   ]
  },
  {
   "cell_type": "markdown",
   "id": "4b14d81e",
   "metadata": {
    "slideshow": {
     "slide_type": "slide"
    }
   },
   "source": [
    "## 2. Running HREMD simulations"
   ]
  },
  {
   "cell_type": "code",
   "execution_count": 4,
   "id": "4e68d9cf",
   "metadata": {
    "slideshow": {
     "slide_type": "slide"
    }
   },
   "outputs": [
    {
     "name": "stderr",
     "output_type": "stream",
     "text": [
      "                  :-) GROMACS - gmx mdrun, 2020.2-MODIFIED (-:\n",
      "\n",
      "                            GROMACS is written by:\n",
      "     Emile Apol      Rossen Apostolov      Paul Bauer     Herman J.C. Berendsen\n",
      "    Par Bjelkmar      Christian Blau   Viacheslav Bolnykh     Kevin Boyd    \n",
      " Aldert van Buuren   Rudi van Drunen     Anton Feenstra       Alan Gray     \n",
      "  Gerrit Groenhof     Anca Hamuraru    Vincent Hindriksen  M. Eric Irrgang  \n",
      "  Aleksei Iupinov   Christoph Junghans     Joe Jordan     Dimitrios Karkoulis\n",
      "    Peter Kasson        Jiri Kraus      Carsten Kutzner      Per Larsson    \n",
      "  Justin A. Lemkul    Viveca Lindahl    Magnus Lundborg     Erik Marklund   \n",
      "    Pascal Merz     Pieter Meulenhoff    Teemu Murtola       Szilard Pall   \n",
      "    Sander Pronk      Roland Schulz      Michael Shirts    Alexey Shvetsov  \n",
      "   Alfons Sijbers     Peter Tieleman      Jon Vincent      Teemu Virolainen \n",
      " Christian Wennberg    Maarten Wolf      Artem Zhmurov   \n",
      "                           and the project leaders:\n",
      "        Mark Abraham, Berk Hess, Erik Lindahl, and David van der Spoel\n",
      "\n",
      "Copyright (c) 1991-2000, University of Groningen, The Netherlands.\n",
      "Copyright (c) 2001-2019, The GROMACS development team at\n",
      "Uppsala University, Stockholm University and\n",
      "the Royal Institute of Technology, Sweden.\n",
      "check out http://www.gromacs.org for more information.\n",
      "\n",
      "GROMACS is free software; you can redistribute it and/or modify it\n",
      "under the terms of the GNU Lesser General Public License\n",
      "as published by the Free Software Foundation; either version 2.1\n",
      "of the License, or (at your option) any later version.\n",
      "\n",
      "GROMACS:      gmx mdrun, version 2020.2-MODIFIED\n",
      "Executable:   /jet/packages/spack/opt/spack/linux-centos8-zen2/gcc-10.2.0/gromacs-2020.2-xfnb3dvyae7ktyfp3kq63xgdxx5c45en/bin/gmx_mpi\n",
      "Data prefix:  /jet/packages/spack/opt/spack/linux-centos8-zen2/gcc-10.2.0/gromacs-2020.2-xfnb3dvyae7ktyfp3kq63xgdxx5c45en\n",
      "Working dir:  /ocean/projects/cts160011p/wehs7661/3rd_workshop_advanced_sampling/Wednesday/Exercise_4\n",
      "Command line:\n",
      "  gmx_mpi mdrun -deffnm HREMD -dhdl dhdl.xvg -replex 100 -nex 512 -multidir state_0 state_1 state_2 state_3 state_4 state_5 state_6 state_7 -noappend -ntomp 1\n",
      "\n",
      "Reading file HREMD.tpr, VERSION 2020.2-MODIFIED (single precision)\n",
      "Reading file HREMD.tpr, VERSION 2020.2-MODIFIED (single precision)\n",
      "Reading file HREMD.tpr, VERSION 2020.2-MODIFIED (single precision)\n",
      "Reading file HREMD.tpr, VERSION 2020.2-MODIFIED (single precision)\n",
      "Reading file HREMD.tpr, VERSION 2020.2-MODIFIED (single precision)\n",
      "Reading file HREMD.tpr, VERSION 2020.2-MODIFIED (single precision)\n",
      "Reading file HREMD.tpr, VERSION 2020.2-MODIFIED (single precision)\n",
      "Reading file HREMD.tpr, VERSION 2020.2-MODIFIED (single precision)\n",
      "Changing nstlist from 10 to 100, rlist from 0.7 to 0.775\n",
      "\n",
      "Changing nstlist from 10 to 100, rlist from 0.7 to 0.775\n",
      "\n",
      "Changing nstlist from 10 to 100, rlist from 0.7 to 0.775\n",
      "\n",
      "Changing nstlist from 10 to 100, rlist from 0.7 to 0.775\n",
      "\n",
      "Changing nstlist from 10 to 100, rlist from 0.7 to 0.775\n",
      "\n",
      "Changing nstlist from 10 to 100, rlist from 0.7 to 0.775\n",
      "\n",
      "Changing nstlist from 10 to 100, rlist from 0.7 to 0.775\n",
      "\n",
      "Changing nstlist from 10 to 100, rlist from 0.7 to 0.775\n",
      "\n",
      "This is simulation 7 out of 8 running as a composite GROMACS\n",
      "multi-simulation job. Setup for this simulation:\n",
      "\n",
      "Using 1 MPI process\n",
      "This is simulation 2 out of 8 running as a composite GROMACS\n",
      "multi-simulation job. Setup for this simulation:\n",
      "\n",
      "Using 1 MPI process\n",
      "This is simulation 6 out of 8 running as a composite GROMACS\n",
      "multi-simulation job. Setup for this simulation:\n",
      "\n",
      "Using 1 MPI process\n",
      "This is simulation 1 out of 8 running as a composite GROMACS\n",
      "multi-simulation job. Setup for this simulation:\n",
      "\n",
      "Using 1 MPI process\n",
      "This is simulation 0 out of 8 running as a composite GROMACS\n",
      "multi-simulation job. Setup for this simulation:\n",
      "\n",
      "Using 1 MPI process\n",
      "This is simulation 5 out of 8 running as a composite GROMACS\n",
      "multi-simulation job. Setup for this simulation:\n",
      "\n",
      "Using 1 MPI process\n",
      "This is simulation 4 out of 8 running as a composite GROMACS\n",
      "multi-simulation job. Setup for this simulation:\n",
      "\n",
      "Using 1 MPI process\n",
      "This is simulation 3 out of 8 running as a composite GROMACS\n",
      "multi-simulation job. Setup for this simulation:\n",
      "\n",
      "Using 1 MPI process\n",
      "\n",
      "Non-default thread affinity set, disabling internal thread affinity\n",
      "\n",
      "Non-default thread affinity set, disabling internal thread affinity\n",
      "\n",
      "Non-default thread affinity set, disabling internal thread affinity\n",
      "\n",
      "Non-default thread affinity set, disabling internal thread affinity\n",
      "\n",
      "Non-default thread affinity set, disabling internal thread affinity\n",
      "\n",
      "Non-default thread affinity set, disabling internal thread affinity\n",
      "\n",
      "Non-default thread affinity set, disabling internal thread affinity\n",
      "\n",
      "Non-default thread affinity set, disabling internal thread affinity\n",
      "\n",
      "Using 1 OpenMP thread \n",
      "\n",
      "\n",
      "Using 1 OpenMP thread \n",
      "\n",
      "\n",
      "Using 1 OpenMP thread \n",
      "\n",
      "\n",
      "Using 1 OpenMP thread \n",
      "\n",
      "\n",
      "Using 1 OpenMP thread \n",
      "\n",
      "\n",
      "Using 1 OpenMP thread \n",
      "\n",
      "\n",
      "Using 1 OpenMP thread \n",
      "\n",
      "\n",
      "Using 1 OpenMP thread \n",
      "\n",
      "starting mdrun 'Generic title in water'\n",
      "500000 steps,   1000.0 ps.\n",
      "starting mdrun 'Generic title in water'\n",
      "500000 steps,   1000.0 ps.\n",
      "starting mdrun 'Generic title in water'\n",
      "500000 steps,   1000.0 ps.\n",
      "starting mdrun 'Generic title in water'\n",
      "500000 steps,   1000.0 ps.\n",
      "starting mdrun 'Generic title in water'\n",
      "500000 steps,   1000.0 ps.\n",
      "starting mdrun 'Generic title in water'\n",
      "500000 steps,   1000.0 ps.\n",
      "starting mdrun 'Generic title in water'\n",
      "500000 steps,   1000.0 ps.\n",
      "starting mdrun 'Generic title in water'\n",
      "500000 steps,   1000.0 ps.\n",
      "\n",
      "Writing final coordinates.\n",
      "\n",
      "Writing final coordinates.\n",
      "\n",
      "Writing final coordinates.\n",
      "\n",
      "Writing final coordinates.\n",
      "\n",
      "Writing final coordinates.\n",
      "\n",
      "Writing final coordinates.\n",
      "\n",
      "Writing final coordinates.\n",
      "\n",
      "Writing final coordinates.\n",
      "\n",
      "GROMACS reminds you: \"Doctor, doctor, it hurts when I hit myself in the head with the hammer! - So don't do it!\" (Bjarne Stroustrup at CppCon2015)\n",
      "\n"
     ]
    },
    {
     "name": "stdout",
     "output_type": "stream",
     "text": [
      "CPU times: user 76.6 ms, sys: 12.3 ms, total: 88.9 ms\n",
      "Wall time: 2min 37s\n"
     ]
    }
   ],
   "source": [
    "%%time\n",
    "%%bash\n",
    "module load gromacs/2020.2-cpu openmpi/4.0.5-gcc10.2.0\n",
    "mpirun -np 8 gmx_mpi mdrun -deffnm HREMD -dhdl dhdl.xvg -replex 100 -nex 512 -multidir state_0 state_1 state_2 state_3 state_4 state_5 state_6 state_7 -noappend -ntomp 1"
   ]
  },
  {
   "cell_type": "markdown",
   "id": "c1c8b338",
   "metadata": {
    "slideshow": {
     "slide_type": "slide"
    }
   },
   "source": [
    "## 3. Data analysis"
   ]
  },
  {
   "cell_type": "markdown",
   "id": "5b030bb6",
   "metadata": {
    "slideshow": {
     "slide_type": "slide"
    }
   },
   "source": [
    "After the simulation is finished, an `dhdl*xvg` file should appear in each folder. These `*dhdl*xvg` files contain the derivative of the total energy (or potential energy) with respect to the $\\lambda$ values, as a function of time. They are important for performing free energy calculations. "
   ]
  },
  {
   "cell_type": "code",
   "execution_count": 5,
   "id": "23a74ac5",
   "metadata": {
    "slideshow": {
     "slide_type": "fragment"
    }
   },
   "outputs": [
    {
     "name": "stdout",
     "output_type": "stream",
     "text": [
      "HREMD.cpt\n",
      "HREMD.mdp\n",
      "HREMD.part0001.edr\n",
      "HREMD.part0001.gro\n",
      "HREMD.part0001.log\n",
      "HREMD.part0001.xtc\n",
      "HREMD.tpr\n",
      "dhdl.part0001.xvg\n",
      "mdout.mdp\n",
      "sys.gro\n",
      "sys.top\n"
     ]
    }
   ],
   "source": [
    "%%bash\n",
    "ls state_0/"
   ]
  },
  {
   "cell_type": "code",
   "execution_count": 6,
   "id": "7979d006",
   "metadata": {
    "slideshow": {
     "slide_type": "fragment"
    }
   },
   "outputs": [],
   "source": [
    "%%bash\n",
    "mkdir dhdl_files && cd dhdl_files\n",
    "for i in {0..7};\n",
    "do\n",
    "    mkdir state_${i}\n",
    "    cp ../state_${i}/dhdl*xvg state_${i}/.\n",
    "done"
   ]
  },
  {
   "cell_type": "code",
   "execution_count": 7,
   "id": "2f317baa",
   "metadata": {
    "slideshow": {
     "slide_type": "slide"
    }
   },
   "outputs": [
    {
     "name": "stderr",
     "output_type": "stream",
     "text": [
      "Warning on use of the timeseries module: If the inherent timescales of the system are long compared to those being analyzed, this statistical inefficiency may be an underestimate.  The estimate presumes the use of many statistically independent samples.  Tests should be performed to assess whether this condition is satisfied.   Be cautious in the interpretation of the data.\n"
     ]
    }
   ],
   "source": [
    "import os\n",
    "import re\n",
    "import glob\n",
    "import natsort\n",
    "import pymbar\n",
    "import alchemlyb\n",
    "import numpy as np\n",
    "import matplotlib.pyplot as plt\n",
    "from matplotlib import rc\n",
    "from pymbar.timeseries import detect_equilibration, subsample_correlated_data\n",
    "from alchemlyb.preprocessing import subsampling\n",
    "from alchemlyb.estimators import MBAR\n",
    "from alchemlyb.parsing.gmx import extract_u_nk\n",
    "from alchemlyb.visualisation import plot_mbar_overlap_matrix \n",
    "\n",
    "# Just some settings for plotting\n",
    "rc('font', **{\n",
    "    'family': 'sans-serif',\n",
    "    'sans-serif': ['DejaVu Sans'],\n",
    "    'size': 10,\n",
    "})\n",
    "# Set the font used for MathJax - more on thiprint(images)\n",
    "rc('mathtext', **{'default': 'regular'})\n",
    "plt.rc('font', family='serif')"
   ]
  },
  {
   "cell_type": "markdown",
   "id": "31611ab0",
   "metadata": {
    "slideshow": {
     "slide_type": "slide"
    }
   },
   "source": [
    "The protocol we adopt here for alchemical free energy calculations is composed of the following steps:\n",
    "- **Step 1**: Collect all `dhdl*xvg` files from different folders/replicas.\n",
    "- **Step 2**: For each replica, subsample the timeseries of $dH/d\\lambda$ to get the uncorrelated samples. \n",
    "- **Step 3**: Concatenate the preprocessed data from all replicas. \n",
    "- **Step 4**: Feed the concatenated data to MBAR to calculate the free energy difference. "
   ]
  },
  {
   "cell_type": "code",
   "execution_count": 8,
   "id": "6c7f2f74",
   "metadata": {
    "slideshow": {
     "slide_type": "slide"
    }
   },
   "outputs": [
    {
     "name": "stdout",
     "output_type": "stream",
     "text": [
      "  Collecting data for the following files: dhdl_files/state_0/dhdl.part0001.xvg\n",
      "  Collecting data for the following files: dhdl_files/state_1/dhdl.part0001.xvg\n",
      "  Collecting data for the following files: dhdl_files/state_2/dhdl.part0001.xvg\n",
      "  Collecting data for the following files: dhdl_files/state_3/dhdl.part0001.xvg\n",
      "  Collecting data for the following files: dhdl_files/state_4/dhdl.part0001.xvg\n",
      "  Collecting data for the following files: dhdl_files/state_5/dhdl.part0001.xvg\n",
      "  Collecting data for the following files: dhdl_files/state_6/dhdl.part0001.xvg\n",
      "  Collecting data for the following files: dhdl_files/state_7/dhdl.part0001.xvg\n"
     ]
    },
    {
     "name": "stderr",
     "output_type": "stream",
     "text": [
      "No GPU/TPU found, falling back to CPU. (Set TF_CPP_MIN_LOG_LEVEL=0 and rerun for more info.)\n"
     ]
    },
    {
     "name": "stdout",
     "output_type": "stream",
     "text": [
      "  Fitting MBAR on u_nk ...\n",
      "  MBAR: -3.9518 +/- 0.1184 kT\n"
     ]
    }
   ],
   "source": [
    "N = 8      # number of replicas\n",
    "T = 300    # simulation temperature\n",
    "dhdl_dir = 'dhdl_files'\n",
    "\n",
    "folders = [f'{dhdl_dir}/state_{i}' for i in range(N)]\n",
    "u_nk_data = []\n",
    "for i in range(N):\n",
    "    files = glob.glob(os.path.join(folders[i], '*dhdl*xvg*'))\n",
    "    files = natsort.natsorted(files, reverse=False)\n",
    "    print(f'  Collecting data for the following files: {\", \".join(files)}')\n",
    "    u_nk = alchemlyb.concat([extract_u_nk(xvg, T=T) for xvg in files])\n",
    "    u_nk_series = subsampling.u_nk2series(u_nk)\n",
    "    u_nk, u_nk_series = subsampling._prepare_input(u_nk, u_nk_series, drop_duplicates=True, sort=True)\n",
    "    u_nk = subsampling.slicing(u_nk, step=1)\n",
    "    u_nk_series = subsampling.slicing(u_nk_series, step=1)\n",
    "    \n",
    "    t, statinef, Neff_max = detect_equilibration(u_nk_series.values)\n",
    "    u_nk_series_equil, u_nk_equil = u_nk_series[t:], u_nk[t:]\n",
    "    indices = subsample_correlated_data(u_nk_series_equil, g=statinef)\n",
    "    preprocessed_u_nk = u_nk_equil.iloc[indices]\n",
    "    u_nk_data.append(preprocessed_u_nk)\n",
    "\n",
    "u_nk_data = alchemlyb.concat(u_nk_data)\n",
    "print('  Fitting MBAR on u_nk ...')\n",
    "try:\n",
    "    mbar_stop = False\n",
    "    mbar = MBAR().fit(u_nk_data)\n",
    "except pymbar.utils.ParameterError():\n",
    "    mbar_stop = True\n",
    "    print(\"\\sum_n W_nk is not equal to 1, probably due to insufficient overlap between states.\")\n",
    "    print(\"Stop using MBAR ...\")\n",
    "\n",
    "if mbar_stop is False:\n",
    "    print(f\"  MBAR: {mbar.delta_f_.iloc[0, -1]:.4f} +/- {mbar.d_delta_f_.iloc[0, -1]:.4f} kT\")    "
   ]
  },
  {
   "cell_type": "markdown",
   "id": "2866a752",
   "metadata": {
    "slideshow": {
     "slide_type": "slide"
    }
   },
   "source": [
    "From the MBAR estimator fitted on the dhdl data, we can also compute the overlap matrix, which is useful for tweaking the alchemical path if we want to improve the sampling. "
   ]
  },
  {
   "cell_type": "code",
   "execution_count": 9,
   "id": "3bbd3012",
   "metadata": {
    "slideshow": {
     "slide_type": "fragment"
    }
   },
   "outputs": [
    {
     "data": {
      "text/plain": [
       "<Axes: >"
      ]
     },
     "execution_count": 9,
     "metadata": {},
     "output_type": "execute_result"
    },
    {
     "data": {
      "image/png": "[encoded data removed]",
      "text/plain": [
       "<Figure size 400x400 with 1 Axes>"
      ]
     },
     "metadata": {},
     "output_type": "display_data"
    }
   ],
   "source": [
    "plot_mbar_overlap_matrix(mbar.overlap_matrix)"
   ]
  },
  {
   "cell_type": "markdown",
   "id": "c0d60878",
   "metadata": {
    "slideshow": {
     "slide_type": "slide"
    }
   },
   "source": [
    "The `log` files document how what replicas were exchanged along the way, which allows us to recover the continuous trajecotry for each configuration (jumping between different alchemical sates). "
   ]
  },
  {
   "cell_type": "code",
   "execution_count": 10,
   "id": "705c7998",
   "metadata": {
    "slideshow": {
     "slide_type": "slide"
    }
   },
   "outputs": [],
   "source": [
    "def get_HREX_trajs(log):\n",
    "    \"\"\"\n",
    "    Parses the log file to get the state-space trajectory for each starting \n",
    "    configuraiton in a HREX simulation. As indicated in the source code \"mdrun/replicaexchange.cpp\",\n",
    "    the \"Order After Exchange\" is the state label corresponding to the configuration\n",
    "    that started in state listed in order, i.e. 3 0 1 2 means that the \n",
    "      - Configuration starting in state 3 (config 3) is now in state 0\n",
    "      - Configuration starting in state 0 (config 0) is now in state 1\n",
    "      - Configuration starting in state 1 (config 1) is now in state 2\n",
    "      - Configuration starting in state 2 (config 2) is now in state 3\n",
    "    Here, what we want to produce is a list of state-space trajectories with trajs[i] being\n",
    "    the continuous trajectory of config i. \n",
    "\n",
    "    Parameters\n",
    "    ----------\n",
    "    log : str\n",
    "        The filename of the log file to be parsed.\n",
    "    \n",
    "    Returns\n",
    "    -------\n",
    "    trajs : list\n",
    "        A list of state-space trajectories.\n",
    "    dt_traj : float\n",
    "        Exchange period in ps.\n",
    "    \"\"\"\n",
    "    f = open(log, 'r')\n",
    "    lines = f.readlines()\n",
    "    f.close()\n",
    "\n",
    "    pattern = re.compile('Repl  There are \\d+ replicas:')\n",
    "    \n",
    "    # First find relevant parameters\n",
    "    for l in lines:\n",
    "        if ' dt ' in l:\n",
    "            dt = float(l.split('=')[-1]) # ps\n",
    "\n",
    "        if 'gmx_mpi mdrun' in l:\n",
    "            replex = int(l.split('-replex')[1].split()[0])\n",
    "\n",
    "        if pattern.match(l):\n",
    "            n_replicas = int(l.split('are')[-1].split('replicas')[0])\n",
    "            break # this should be found last so we can break here\n",
    "\n",
    "    trajs = [list(range(n_replicas))]  # always start from [0, 1, 2, ...]\n",
    "    dt_traj = dt * replex   # exhcnage period in ps\n",
    "\n",
    "    for l in lines:\n",
    "        if 'Order After Exchange' in l:\n",
    "            config_idx = [int(i) for i in l.split(':')[1].split()]\n",
    "            state_idx = [config_idx.index(i) for i in range(n_replicas)]\n",
    "            trajs.append(state_idx)\n",
    "    trajs = np.array(trajs).T\n",
    "\n",
    "    return trajs, dt_traj"
   ]
  },
  {
   "cell_type": "code",
   "execution_count": 11,
   "id": "69b1ede9",
   "metadata": {
    "slideshow": {
     "slide_type": "slide"
    }
   },
   "outputs": [
    {
     "data": {
      "image/png": "[encoded data removed]",
      "text/plain": [
       "<Figure size 640x480 with 1 Axes>"
      ]
     },
     "metadata": {},
     "output_type": "display_data"
    }
   ],
   "source": [
    "state_trajs, dt_traj = get_HREX_trajs('state_0/HREMD.part0001.log')\n",
    "cmap = plt.cm.ocean\n",
    "colors = [cmap(i) for i in np.arange(N) / N]\n",
    "\n",
    "plt.figure()\n",
    "for i in range(len(state_trajs)):\n",
    "    plt.plot(np.arange(len(state_trajs[i])) * dt_traj, state_trajs[i], label=f'config {i}', alpha=0.5, color=colors[i])\n",
    "    plt.xlabel('Time (ps)')\n",
    "    plt.ylabel('State index')\n",
    "    plt.legend()\n",
    "plt.grid()"
   ]
  },
  {
   "cell_type": "markdown",
   "id": "285f9f1b",
   "metadata": {
    "slideshow": {
     "slide_type": "slide"
    }
   },
   "source": [
    "## References\n",
    "- The paper that proposed the replica-exchange framework: [Sugita, Yuji, and Yuko Okamoto. \"Replica-exchange molecular dynamics method for protein folding.\" Chemical physics letters 314.1-2 (1999): 141-151.](https://doi.org/10.1016/S0009-2614(99)01123-9)\n",
    "- The paper that proposed Hamiltonian replica exchange: [Sugita, Yuji, Akio Kitao, and Yuko Okamoto. \"Multidimensional replica-exchange method for free-energy calculations.\" The Journal of chemical physics 113.15 (2000): 6042-6051.](https://doi.org/10.1063/1.1308516)\n",
    "- An excellent review on alchemical free energy methods: [Mey, Antonia SJS, et al. \"Best practices for alchemical free energy calculations.\" arXiv preprint arXiv:2008.03067 (2020).](https://doi.org/10.33011/livecoms.2.1.18378)"
   ]
  },
  {
   "cell_type": "markdown",
   "id": "a06ba8cc",
   "metadata": {
    "slideshow": {
     "slide_type": "slide"
    }
   },
   "source": [
    "## Takeaways"
   ]
  },
  {
   "cell_type": "markdown",
   "id": "d4cbb4e5",
   "metadata": {
    "slideshow": {
     "slide_type": "fragment"
    }
   },
   "source": [
    "- The alchemical path should be tuned to make sure there is always overlap between neighboring intermediate states.\n",
    "- Turn off charges before turning off the van der Waals interactions, so there won't be infinite attractive potential.\n",
    "- Use the soft-core potential when turning off the van der Waals interactions to avoid the singularity problem.\n",
    "- Using Hamiltonian replica exchange, we are able to calculate the solvation free energy of a molecule. \n",
    "- Given sufficient swapping, all configuraitons should be able to sample all alchemical intermediate states. "
   ]
  }
 ],
 "metadata": {
  "celltoolbar": "Slideshow",
  "kernelspec": {
   "display_name": "Python 3 (ipykernel)",
   "language": "python",
   "name": "python3"
  },
  "language_info": {
   "codemirror_mode": {
    "name": "ipython",
    "version": 3
   },
   "file_extension": ".py",
   "mimetype": "text/x-python",
   "name": "python",
   "nbconvert_exporter": "python",
   "pygments_lexer": "ipython3",
   "version": "3.9.12"
  }
 },
 "nbformat": 4,
 "nbformat_minor": 5
}
